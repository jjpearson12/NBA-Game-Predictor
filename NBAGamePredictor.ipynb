{
  "metadata": {
    "kernelspec": {
      "name": "python",
      "display_name": "Python (Pyodide)",
      "language": "python"
    },
    "language_info": {
      "codemirror_mode": {
        "name": "python",
        "version": 3
      },
      "file_extension": ".py",
      "mimetype": "text/x-python",
      "name": "python",
      "nbconvert_exporter": "python",
      "pygments_lexer": "ipython3",
      "version": "3.8"
    }
  },
  "nbformat_minor": 4,
  "nbformat": 4,
  "cells": [
    {
      "cell_type": "code",
      "source": "import pandas as pd",
      "metadata": {
        "trusted": true
      },
      "outputs": [],
      "execution_count": 1
    },
    {
      "cell_type": "code",
      "source": "df = pd.read_csv(\"nba_games.csv\", index_col=0)",
      "metadata": {
        "trusted": true
      },
      "outputs": [],
      "execution_count": 2
    },
    {
      "cell_type": "code",
      "source": "df",
      "metadata": {
        "trusted": true
      },
      "outputs": [
        {
          "execution_count": 3,
          "output_type": "execute_result",
          "data": {
            "text/plain": "          mp   mp.1    fg    fga    fg%    3p   3pa    3p%    ft   fta  ...  \\\n0      240.0  240.0  39.0   81.0  0.481   6.0  20.0  0.300  14.0  18.0  ...   \n1      240.0  240.0  36.0  100.0  0.360   7.0  31.0  0.226  16.0  19.0  ...   \n2      240.0  240.0  37.0   85.0  0.435   8.0  19.0  0.421  17.0  23.0  ...   \n3      240.0  240.0  41.0   89.0  0.461   8.0  21.0  0.381  17.0  19.0  ...   \n4      240.0  240.0  27.0   86.0  0.314   6.0  26.0  0.231  15.0  20.0  ...   \n...      ...    ...   ...    ...    ...   ...   ...    ...   ...   ...  ...   \n17767  240.0  240.0  35.0   81.0  0.432  11.0  26.0  0.423  27.0  36.0  ...   \n17768  240.0  240.0  37.0   74.0  0.500  13.0  25.0  0.520  26.0  37.0  ...   \n17769  240.0  240.0  42.0   89.0  0.472  14.0  33.0  0.424  10.0  20.0  ...   \n17770  240.0  240.0  41.0   85.0  0.482   9.0  26.0  0.346  26.0  30.0  ...   \n17771  240.0  240.0  33.0   85.0  0.388  12.0  44.0  0.273  28.0  34.0  ...   \n\n       tov%_max_opp  usg%_max_opp  ortg_max_opp  drtg_max_opp  team_opp  \\\n0              22.8          29.0         178.0         111.0       DAL   \n1              50.0          32.6         152.0         111.0       ATL   \n2              20.0          30.9         148.0         116.0       SAS   \n3              28.6          30.9         138.0         118.0       MIN   \n4              16.8          30.9         157.0          90.0       MEM   \n...             ...           ...           ...           ...       ...   \n17767          34.2          33.7         160.0         118.0       OKC   \n17768          25.0          30.0         139.0         129.0       ORL   \n17769          25.6          29.9         175.0         126.0       LAC   \n17770          27.7          27.1         150.0         126.0       MIA   \n17771          51.5          36.2         141.0         114.0       BOS   \n\n       total_opp  home_opp  season        date    won  \n0             95         1    2016  2015-12-09   True  \n1             98         0    2016  2015-12-09  False  \n2            107         1    2018  2017-10-18  False  \n3             99         0    2018  2017-10-18   True  \n4             92         1    2021  2021-04-30  False  \n...          ...       ...     ...         ...    ...  \n17767         92         0    2019  2018-10-19   True  \n17768        108         1    2017  2016-12-14   True  \n17769        113         0    2017  2016-12-14  False  \n17770        106         1    2020  2020-09-19   True  \n17771        117         0    2020  2020-09-19  False  \n\n[17772 rows x 150 columns]",
            "text/html": "<div>\n<style scoped>\n    .dataframe tbody tr th:only-of-type {\n        vertical-align: middle;\n    }\n\n    .dataframe tbody tr th {\n        vertical-align: top;\n    }\n\n    .dataframe thead th {\n        text-align: right;\n    }\n</style>\n<table border=\"1\" class=\"dataframe\">\n  <thead>\n    <tr style=\"text-align: right;\">\n      <th></th>\n      <th>mp</th>\n      <th>mp.1</th>\n      <th>fg</th>\n      <th>fga</th>\n      <th>fg%</th>\n      <th>3p</th>\n      <th>3pa</th>\n      <th>3p%</th>\n      <th>ft</th>\n      <th>fta</th>\n      <th>...</th>\n      <th>tov%_max_opp</th>\n      <th>usg%_max_opp</th>\n      <th>ortg_max_opp</th>\n      <th>drtg_max_opp</th>\n      <th>team_opp</th>\n      <th>total_opp</th>\n      <th>home_opp</th>\n      <th>season</th>\n      <th>date</th>\n      <th>won</th>\n    </tr>\n  </thead>\n  <tbody>\n    <tr>\n      <th>0</th>\n      <td>240.0</td>\n      <td>240.0</td>\n      <td>39.0</td>\n      <td>81.0</td>\n      <td>0.481</td>\n      <td>6.0</td>\n      <td>20.0</td>\n      <td>0.300</td>\n      <td>14.0</td>\n      <td>18.0</td>\n      <td>...</td>\n      <td>22.8</td>\n      <td>29.0</td>\n      <td>178.0</td>\n      <td>111.0</td>\n      <td>DAL</td>\n      <td>95</td>\n      <td>1</td>\n      <td>2016</td>\n      <td>2015-12-09</td>\n      <td>True</td>\n    </tr>\n    <tr>\n      <th>1</th>\n      <td>240.0</td>\n      <td>240.0</td>\n      <td>36.0</td>\n      <td>100.0</td>\n      <td>0.360</td>\n      <td>7.0</td>\n      <td>31.0</td>\n      <td>0.226</td>\n      <td>16.0</td>\n      <td>19.0</td>\n      <td>...</td>\n      <td>50.0</td>\n      <td>32.6</td>\n      <td>152.0</td>\n      <td>111.0</td>\n      <td>ATL</td>\n      <td>98</td>\n      <td>0</td>\n      <td>2016</td>\n      <td>2015-12-09</td>\n      <td>False</td>\n    </tr>\n    <tr>\n      <th>2</th>\n      <td>240.0</td>\n      <td>240.0</td>\n      <td>37.0</td>\n      <td>85.0</td>\n      <td>0.435</td>\n      <td>8.0</td>\n      <td>19.0</td>\n      <td>0.421</td>\n      <td>17.0</td>\n      <td>23.0</td>\n      <td>...</td>\n      <td>20.0</td>\n      <td>30.9</td>\n      <td>148.0</td>\n      <td>116.0</td>\n      <td>SAS</td>\n      <td>107</td>\n      <td>1</td>\n      <td>2018</td>\n      <td>2017-10-18</td>\n      <td>False</td>\n    </tr>\n    <tr>\n      <th>3</th>\n      <td>240.0</td>\n      <td>240.0</td>\n      <td>41.0</td>\n      <td>89.0</td>\n      <td>0.461</td>\n      <td>8.0</td>\n      <td>21.0</td>\n      <td>0.381</td>\n      <td>17.0</td>\n      <td>19.0</td>\n      <td>...</td>\n      <td>28.6</td>\n      <td>30.9</td>\n      <td>138.0</td>\n      <td>118.0</td>\n      <td>MIN</td>\n      <td>99</td>\n      <td>0</td>\n      <td>2018</td>\n      <td>2017-10-18</td>\n      <td>True</td>\n    </tr>\n    <tr>\n      <th>4</th>\n      <td>240.0</td>\n      <td>240.0</td>\n      <td>27.0</td>\n      <td>86.0</td>\n      <td>0.314</td>\n      <td>6.0</td>\n      <td>26.0</td>\n      <td>0.231</td>\n      <td>15.0</td>\n      <td>20.0</td>\n      <td>...</td>\n      <td>16.8</td>\n      <td>30.9</td>\n      <td>157.0</td>\n      <td>90.0</td>\n      <td>MEM</td>\n      <td>92</td>\n      <td>1</td>\n      <td>2021</td>\n      <td>2021-04-30</td>\n      <td>False</td>\n    </tr>\n    <tr>\n      <th>...</th>\n      <td>...</td>\n      <td>...</td>\n      <td>...</td>\n      <td>...</td>\n      <td>...</td>\n      <td>...</td>\n      <td>...</td>\n      <td>...</td>\n      <td>...</td>\n      <td>...</td>\n      <td>...</td>\n      <td>...</td>\n      <td>...</td>\n      <td>...</td>\n      <td>...</td>\n      <td>...</td>\n      <td>...</td>\n      <td>...</td>\n      <td>...</td>\n      <td>...</td>\n      <td>...</td>\n    </tr>\n    <tr>\n      <th>17767</th>\n      <td>240.0</td>\n      <td>240.0</td>\n      <td>35.0</td>\n      <td>81.0</td>\n      <td>0.432</td>\n      <td>11.0</td>\n      <td>26.0</td>\n      <td>0.423</td>\n      <td>27.0</td>\n      <td>36.0</td>\n      <td>...</td>\n      <td>34.2</td>\n      <td>33.7</td>\n      <td>160.0</td>\n      <td>118.0</td>\n      <td>OKC</td>\n      <td>92</td>\n      <td>0</td>\n      <td>2019</td>\n      <td>2018-10-19</td>\n      <td>True</td>\n    </tr>\n    <tr>\n      <th>17768</th>\n      <td>240.0</td>\n      <td>240.0</td>\n      <td>37.0</td>\n      <td>74.0</td>\n      <td>0.500</td>\n      <td>13.0</td>\n      <td>25.0</td>\n      <td>0.520</td>\n      <td>26.0</td>\n      <td>37.0</td>\n      <td>...</td>\n      <td>25.0</td>\n      <td>30.0</td>\n      <td>139.0</td>\n      <td>129.0</td>\n      <td>ORL</td>\n      <td>108</td>\n      <td>1</td>\n      <td>2017</td>\n      <td>2016-12-14</td>\n      <td>True</td>\n    </tr>\n    <tr>\n      <th>17769</th>\n      <td>240.0</td>\n      <td>240.0</td>\n      <td>42.0</td>\n      <td>89.0</td>\n      <td>0.472</td>\n      <td>14.0</td>\n      <td>33.0</td>\n      <td>0.424</td>\n      <td>10.0</td>\n      <td>20.0</td>\n      <td>...</td>\n      <td>25.6</td>\n      <td>29.9</td>\n      <td>175.0</td>\n      <td>126.0</td>\n      <td>LAC</td>\n      <td>113</td>\n      <td>0</td>\n      <td>2017</td>\n      <td>2016-12-14</td>\n      <td>False</td>\n    </tr>\n    <tr>\n      <th>17770</th>\n      <td>240.0</td>\n      <td>240.0</td>\n      <td>41.0</td>\n      <td>85.0</td>\n      <td>0.482</td>\n      <td>9.0</td>\n      <td>26.0</td>\n      <td>0.346</td>\n      <td>26.0</td>\n      <td>30.0</td>\n      <td>...</td>\n      <td>27.7</td>\n      <td>27.1</td>\n      <td>150.0</td>\n      <td>126.0</td>\n      <td>MIA</td>\n      <td>106</td>\n      <td>1</td>\n      <td>2020</td>\n      <td>2020-09-19</td>\n      <td>True</td>\n    </tr>\n    <tr>\n      <th>17771</th>\n      <td>240.0</td>\n      <td>240.0</td>\n      <td>33.0</td>\n      <td>85.0</td>\n      <td>0.388</td>\n      <td>12.0</td>\n      <td>44.0</td>\n      <td>0.273</td>\n      <td>28.0</td>\n      <td>34.0</td>\n      <td>...</td>\n      <td>51.5</td>\n      <td>36.2</td>\n      <td>141.0</td>\n      <td>114.0</td>\n      <td>BOS</td>\n      <td>117</td>\n      <td>0</td>\n      <td>2020</td>\n      <td>2020-09-19</td>\n      <td>False</td>\n    </tr>\n  </tbody>\n</table>\n<p>17772 rows × 150 columns</p>\n</div>"
          },
          "metadata": {}
        }
      ],
      "execution_count": 3
    },
    {
      "cell_type": "code",
      "source": "df = df.sort_values(\"date\")",
      "metadata": {
        "trusted": true
      },
      "outputs": [],
      "execution_count": 4
    },
    {
      "cell_type": "code",
      "source": "df = df.reset_index(drop=True)",
      "metadata": {
        "trusted": true
      },
      "outputs": [],
      "execution_count": 5
    },
    {
      "cell_type": "code",
      "source": "del df[\"mp.1\"]\ndel df[\"mp_opp.1\"]\ndel df[\"index_opp\"]",
      "metadata": {
        "trusted": true
      },
      "outputs": [],
      "execution_count": 6
    },
    {
      "cell_type": "code",
      "source": "def add_target(group):\n    group[\"target\"] = group[\"won\"].shift(-1)\n    return group\n\ndf = df.groupby(\"team\", group_keys=False).apply(add_target)",
      "metadata": {
        "trusted": true
      },
      "outputs": [],
      "execution_count": 7
    },
    {
      "cell_type": "code",
      "source": "df[df[\"team\"] == \"WAS\"]",
      "metadata": {
        "trusted": true
      },
      "outputs": [
        {
          "execution_count": 8,
          "output_type": "execute_result",
          "data": {
            "text/plain": "          mp    fg    fga    fg%    3p   3pa    3p%    ft   fta    ft%  ...  \\\n11     240.0  33.0   84.0  0.393   7.0  28.0  0.250  15.0  25.0  0.600  ...   \n63     240.0  35.0   68.0  0.515  12.0  21.0  0.571  36.0  44.0  0.818  ...   \n69     240.0  38.0   90.0  0.422   6.0  22.0  0.273  28.0  33.0  0.848  ...   \n124    240.0  42.0   87.0  0.483   8.0  23.0  0.348  10.0  14.0  0.714  ...   \n161    240.0  36.0   88.0  0.409   8.0  25.0  0.320  18.0  23.0  0.783  ...   \n...      ...   ...    ...    ...   ...   ...    ...   ...   ...    ...  ...   \n17471  240.0  38.0   82.0  0.463   8.0  21.0  0.381  18.0  20.0  0.900  ...   \n17483  240.0  56.0  101.0  0.554  13.0  30.0  0.433   7.0  14.0  0.500  ...   \n17510  240.0  42.0   86.0  0.488  10.0  35.0  0.286   9.0  11.0  0.818  ...   \n17538  240.0  35.0   69.0  0.507   9.0  28.0  0.321  13.0  17.0  0.765  ...   \n17558  240.0  42.0   94.0  0.447   8.0  23.0  0.348  16.0  26.0  0.615  ...   \n\n       usg%_max_opp  ortg_max_opp  drtg_max_opp  team_opp  total_opp  \\\n11             25.2         134.0          98.0       ORL         87   \n63             32.4         138.0         122.0       MIL        113   \n69             28.7         153.0         108.0       NYK        117   \n124            30.0         160.0         109.0       SAS         99   \n161            41.6         146.0         103.0       BOS        118   \n...             ...           ...           ...       ...        ...   \n17471          34.4         245.0         116.0       BOS        144   \n17483          32.8         168.0         132.0       MIN        114   \n17510          60.2         159.0         114.0       ATL        118   \n17538          35.5         135.0         104.0       NYK        114   \n17558          37.3         161.0         118.0       CHO        124   \n\n       home_opp  season        date    won  target  \n11            1    2016  2015-10-28   True    True  \n63            1    2016  2015-10-30   True   False  \n69            0    2016  2015-10-31  False    True  \n124           0    2016  2015-11-04   True   False  \n161           1    2016  2015-11-06  False   False  \n...         ...     ...         ...    ...     ...  \n17471         1    2022  2022-04-03  False    True  \n17483         1    2022  2022-04-05   True   False  \n17510         1    2022  2022-04-06  False   False  \n17538         0    2022  2022-04-08  False   False  \n17558         1    2022  2022-04-10  False     NaN  \n\n[580 rows x 148 columns]",
            "text/html": "<div>\n<style scoped>\n    .dataframe tbody tr th:only-of-type {\n        vertical-align: middle;\n    }\n\n    .dataframe tbody tr th {\n        vertical-align: top;\n    }\n\n    .dataframe thead th {\n        text-align: right;\n    }\n</style>\n<table border=\"1\" class=\"dataframe\">\n  <thead>\n    <tr style=\"text-align: right;\">\n      <th></th>\n      <th>mp</th>\n      <th>fg</th>\n      <th>fga</th>\n      <th>fg%</th>\n      <th>3p</th>\n      <th>3pa</th>\n      <th>3p%</th>\n      <th>ft</th>\n      <th>fta</th>\n      <th>ft%</th>\n      <th>...</th>\n      <th>usg%_max_opp</th>\n      <th>ortg_max_opp</th>\n      <th>drtg_max_opp</th>\n      <th>team_opp</th>\n      <th>total_opp</th>\n      <th>home_opp</th>\n      <th>season</th>\n      <th>date</th>\n      <th>won</th>\n      <th>target</th>\n    </tr>\n  </thead>\n  <tbody>\n    <tr>\n      <th>11</th>\n      <td>240.0</td>\n      <td>33.0</td>\n      <td>84.0</td>\n      <td>0.393</td>\n      <td>7.0</td>\n      <td>28.0</td>\n      <td>0.250</td>\n      <td>15.0</td>\n      <td>25.0</td>\n      <td>0.600</td>\n      <td>...</td>\n      <td>25.2</td>\n      <td>134.0</td>\n      <td>98.0</td>\n      <td>ORL</td>\n      <td>87</td>\n      <td>1</td>\n      <td>2016</td>\n      <td>2015-10-28</td>\n      <td>True</td>\n      <td>True</td>\n    </tr>\n    <tr>\n      <th>63</th>\n      <td>240.0</td>\n      <td>35.0</td>\n      <td>68.0</td>\n      <td>0.515</td>\n      <td>12.0</td>\n      <td>21.0</td>\n      <td>0.571</td>\n      <td>36.0</td>\n      <td>44.0</td>\n      <td>0.818</td>\n      <td>...</td>\n      <td>32.4</td>\n      <td>138.0</td>\n      <td>122.0</td>\n      <td>MIL</td>\n      <td>113</td>\n      <td>1</td>\n      <td>2016</td>\n      <td>2015-10-30</td>\n      <td>True</td>\n      <td>False</td>\n    </tr>\n    <tr>\n      <th>69</th>\n      <td>240.0</td>\n      <td>38.0</td>\n      <td>90.0</td>\n      <td>0.422</td>\n      <td>6.0</td>\n      <td>22.0</td>\n      <td>0.273</td>\n      <td>28.0</td>\n      <td>33.0</td>\n      <td>0.848</td>\n      <td>...</td>\n      <td>28.7</td>\n      <td>153.0</td>\n      <td>108.0</td>\n      <td>NYK</td>\n      <td>117</td>\n      <td>0</td>\n      <td>2016</td>\n      <td>2015-10-31</td>\n      <td>False</td>\n      <td>True</td>\n    </tr>\n    <tr>\n      <th>124</th>\n      <td>240.0</td>\n      <td>42.0</td>\n      <td>87.0</td>\n      <td>0.483</td>\n      <td>8.0</td>\n      <td>23.0</td>\n      <td>0.348</td>\n      <td>10.0</td>\n      <td>14.0</td>\n      <td>0.714</td>\n      <td>...</td>\n      <td>30.0</td>\n      <td>160.0</td>\n      <td>109.0</td>\n      <td>SAS</td>\n      <td>99</td>\n      <td>0</td>\n      <td>2016</td>\n      <td>2015-11-04</td>\n      <td>True</td>\n      <td>False</td>\n    </tr>\n    <tr>\n      <th>161</th>\n      <td>240.0</td>\n      <td>36.0</td>\n      <td>88.0</td>\n      <td>0.409</td>\n      <td>8.0</td>\n      <td>25.0</td>\n      <td>0.320</td>\n      <td>18.0</td>\n      <td>23.0</td>\n      <td>0.783</td>\n      <td>...</td>\n      <td>41.6</td>\n      <td>146.0</td>\n      <td>103.0</td>\n      <td>BOS</td>\n      <td>118</td>\n      <td>1</td>\n      <td>2016</td>\n      <td>2015-11-06</td>\n      <td>False</td>\n      <td>False</td>\n    </tr>\n    <tr>\n      <th>...</th>\n      <td>...</td>\n      <td>...</td>\n      <td>...</td>\n      <td>...</td>\n      <td>...</td>\n      <td>...</td>\n      <td>...</td>\n      <td>...</td>\n      <td>...</td>\n      <td>...</td>\n      <td>...</td>\n      <td>...</td>\n      <td>...</td>\n      <td>...</td>\n      <td>...</td>\n      <td>...</td>\n      <td>...</td>\n      <td>...</td>\n      <td>...</td>\n      <td>...</td>\n      <td>...</td>\n    </tr>\n    <tr>\n      <th>17471</th>\n      <td>240.0</td>\n      <td>38.0</td>\n      <td>82.0</td>\n      <td>0.463</td>\n      <td>8.0</td>\n      <td>21.0</td>\n      <td>0.381</td>\n      <td>18.0</td>\n      <td>20.0</td>\n      <td>0.900</td>\n      <td>...</td>\n      <td>34.4</td>\n      <td>245.0</td>\n      <td>116.0</td>\n      <td>BOS</td>\n      <td>144</td>\n      <td>1</td>\n      <td>2022</td>\n      <td>2022-04-03</td>\n      <td>False</td>\n      <td>True</td>\n    </tr>\n    <tr>\n      <th>17483</th>\n      <td>240.0</td>\n      <td>56.0</td>\n      <td>101.0</td>\n      <td>0.554</td>\n      <td>13.0</td>\n      <td>30.0</td>\n      <td>0.433</td>\n      <td>7.0</td>\n      <td>14.0</td>\n      <td>0.500</td>\n      <td>...</td>\n      <td>32.8</td>\n      <td>168.0</td>\n      <td>132.0</td>\n      <td>MIN</td>\n      <td>114</td>\n      <td>1</td>\n      <td>2022</td>\n      <td>2022-04-05</td>\n      <td>True</td>\n      <td>False</td>\n    </tr>\n    <tr>\n      <th>17510</th>\n      <td>240.0</td>\n      <td>42.0</td>\n      <td>86.0</td>\n      <td>0.488</td>\n      <td>10.0</td>\n      <td>35.0</td>\n      <td>0.286</td>\n      <td>9.0</td>\n      <td>11.0</td>\n      <td>0.818</td>\n      <td>...</td>\n      <td>60.2</td>\n      <td>159.0</td>\n      <td>114.0</td>\n      <td>ATL</td>\n      <td>118</td>\n      <td>1</td>\n      <td>2022</td>\n      <td>2022-04-06</td>\n      <td>False</td>\n      <td>False</td>\n    </tr>\n    <tr>\n      <th>17538</th>\n      <td>240.0</td>\n      <td>35.0</td>\n      <td>69.0</td>\n      <td>0.507</td>\n      <td>9.0</td>\n      <td>28.0</td>\n      <td>0.321</td>\n      <td>13.0</td>\n      <td>17.0</td>\n      <td>0.765</td>\n      <td>...</td>\n      <td>35.5</td>\n      <td>135.0</td>\n      <td>104.0</td>\n      <td>NYK</td>\n      <td>114</td>\n      <td>0</td>\n      <td>2022</td>\n      <td>2022-04-08</td>\n      <td>False</td>\n      <td>False</td>\n    </tr>\n    <tr>\n      <th>17558</th>\n      <td>240.0</td>\n      <td>42.0</td>\n      <td>94.0</td>\n      <td>0.447</td>\n      <td>8.0</td>\n      <td>23.0</td>\n      <td>0.348</td>\n      <td>16.0</td>\n      <td>26.0</td>\n      <td>0.615</td>\n      <td>...</td>\n      <td>37.3</td>\n      <td>161.0</td>\n      <td>118.0</td>\n      <td>CHO</td>\n      <td>124</td>\n      <td>1</td>\n      <td>2022</td>\n      <td>2022-04-10</td>\n      <td>False</td>\n      <td>NaN</td>\n    </tr>\n  </tbody>\n</table>\n<p>580 rows × 148 columns</p>\n</div>"
          },
          "metadata": {}
        }
      ],
      "execution_count": 8
    },
    {
      "cell_type": "code",
      "source": "df[\"target\"][pd.isnull(df[\"target\"])] = 2\ndf[\"target\"] = df[\"target\"].astype(int, errors=\"ignore\")",
      "metadata": {
        "trusted": true
      },
      "outputs": [
        {
          "name": "stderr",
          "text": "<ipython-input-9-ac49a6f40115>:1: SettingWithCopyWarning: \nA value is trying to be set on a copy of a slice from a DataFrame\n\nSee the caveats in the documentation: https://pandas.pydata.org/pandas-docs/stable/user_guide/indexing.html#returning-a-view-versus-a-copy\n  df[\"target\"][pd.isnull(df[\"target\"])] = 2\n",
          "output_type": "stream"
        }
      ],
      "execution_count": 9
    },
    {
      "cell_type": "code",
      "source": "df[\"won\"].value_counts()",
      "metadata": {
        "trusted": true
      },
      "outputs": [
        {
          "execution_count": 10,
          "output_type": "execute_result",
          "data": {
            "text/plain": "False    8886\nTrue     8886\nName: won, dtype: int64"
          },
          "metadata": {}
        }
      ],
      "execution_count": 10
    },
    {
      "cell_type": "code",
      "source": "df[\"target\"].value_counts()",
      "metadata": {
        "trusted": true
      },
      "outputs": [
        {
          "execution_count": 11,
          "output_type": "execute_result",
          "data": {
            "text/plain": "1    8872\n0    8870\n2      30\nName: target, dtype: int64"
          },
          "metadata": {}
        }
      ],
      "execution_count": 11
    },
    {
      "cell_type": "code",
      "source": "nulls = pd.isnull(df).sum()",
      "metadata": {
        "trusted": true
      },
      "outputs": [],
      "execution_count": 12
    },
    {
      "cell_type": "code",
      "source": "nulls = nulls[nulls > 0]",
      "metadata": {
        "trusted": true
      },
      "outputs": [],
      "execution_count": 13
    },
    {
      "cell_type": "code",
      "source": "valid_columns = df.columns[~df.columns.isin(nulls.index)]",
      "metadata": {
        "trusted": true
      },
      "outputs": [],
      "execution_count": 14
    },
    {
      "cell_type": "code",
      "source": "valid_columns",
      "metadata": {
        "trusted": true
      },
      "outputs": [
        {
          "execution_count": 15,
          "output_type": "execute_result",
          "data": {
            "text/plain": "Index(['mp', 'fg', 'fga', 'fg%', '3p', '3pa', '3p%', 'ft', 'fta', 'ft%',\n       ...\n       'usg%_max_opp', 'ortg_max_opp', 'drtg_max_opp', 'team_opp', 'total_opp',\n       'home_opp', 'season', 'date', 'won', 'target'],\n      dtype='object', length=142)"
          },
          "metadata": {}
        }
      ],
      "execution_count": 15
    },
    {
      "cell_type": "code",
      "source": "df = df[valid_columns].copy()",
      "metadata": {
        "trusted": true
      },
      "outputs": [],
      "execution_count": 16
    },
    {
      "cell_type": "code",
      "source": "df",
      "metadata": {
        "trusted": true
      },
      "outputs": [
        {
          "execution_count": 17,
          "output_type": "execute_result",
          "data": {
            "text/plain": "          mp    fg   fga    fg%    3p   3pa    3p%    ft   fta    ft%  ...  \\\n0      240.0  35.0  83.0  0.422   6.0  18.0  0.333  19.0  27.0  0.704  ...   \n1      240.0  38.0  94.0  0.404   9.0  29.0  0.310  10.0  17.0  0.588  ...   \n2      240.0  37.0  87.0  0.425   7.0  19.0  0.368  16.0  23.0  0.696  ...   \n3      240.0  41.0  96.0  0.427   9.0  30.0  0.300  20.0  22.0  0.909  ...   \n4      240.0  37.0  82.0  0.451   8.0  27.0  0.296  12.0  15.0  0.800  ...   \n...      ...   ...   ...    ...   ...   ...    ...   ...   ...    ...  ...   \n17767  240.0  34.0  85.0  0.400  15.0  38.0  0.395  14.0  19.0  0.737  ...   \n17768  240.0  41.0  88.0  0.466   9.0  40.0  0.225  13.0  15.0  0.867  ...   \n17769  240.0  31.0  75.0  0.413  11.0  32.0  0.344  21.0  31.0  0.677  ...   \n17770  240.0  34.0  80.0  0.425  11.0  28.0  0.393  11.0  12.0  0.917  ...   \n17771  240.0  38.0  92.0  0.413  19.0  46.0  0.413   8.0   8.0  1.000  ...   \n\n       usg%_max_opp  ortg_max_opp  drtg_max_opp  team_opp  total_opp  \\\n0              43.7         206.0         104.0       GSW        111   \n1              34.6         162.0         104.0       CHI         97   \n2              29.0         138.0         105.0       CLE         95   \n3              38.9         201.0         120.0       NOP         95   \n4              23.6         132.0         104.0       DET        106   \n...             ...           ...           ...       ...        ...   \n17767          36.3         133.0         112.0       GSW        107   \n17768          94.4         300.0         112.0       BOS         94   \n17769          36.2         222.0         107.0       GSW        104   \n17770          31.5         186.0         111.0       GSW        103   \n17771          42.6         141.0         126.0       BOS         90   \n\n       home_opp  season        date    won  target  \n0             1    2016  2015-10-27  False       0  \n1             1    2016  2015-10-27  False       1  \n2             0    2016  2015-10-27   True       1  \n3             0    2016  2015-10-27   True       1  \n4             0    2016  2015-10-27  False       1  \n...         ...     ...         ...    ...     ...  \n17767         0    2022  2022-06-10  False       0  \n17768         0    2022  2022-06-13   True       1  \n17769         1    2022  2022-06-13  False       0  \n17770         0    2022  2022-06-16  False       2  \n17771         1    2022  2022-06-16   True       2  \n\n[17772 rows x 142 columns]",
            "text/html": "<div>\n<style scoped>\n    .dataframe tbody tr th:only-of-type {\n        vertical-align: middle;\n    }\n\n    .dataframe tbody tr th {\n        vertical-align: top;\n    }\n\n    .dataframe thead th {\n        text-align: right;\n    }\n</style>\n<table border=\"1\" class=\"dataframe\">\n  <thead>\n    <tr style=\"text-align: right;\">\n      <th></th>\n      <th>mp</th>\n      <th>fg</th>\n      <th>fga</th>\n      <th>fg%</th>\n      <th>3p</th>\n      <th>3pa</th>\n      <th>3p%</th>\n      <th>ft</th>\n      <th>fta</th>\n      <th>ft%</th>\n      <th>...</th>\n      <th>usg%_max_opp</th>\n      <th>ortg_max_opp</th>\n      <th>drtg_max_opp</th>\n      <th>team_opp</th>\n      <th>total_opp</th>\n      <th>home_opp</th>\n      <th>season</th>\n      <th>date</th>\n      <th>won</th>\n      <th>target</th>\n    </tr>\n  </thead>\n  <tbody>\n    <tr>\n      <th>0</th>\n      <td>240.0</td>\n      <td>35.0</td>\n      <td>83.0</td>\n      <td>0.422</td>\n      <td>6.0</td>\n      <td>18.0</td>\n      <td>0.333</td>\n      <td>19.0</td>\n      <td>27.0</td>\n      <td>0.704</td>\n      <td>...</td>\n      <td>43.7</td>\n      <td>206.0</td>\n      <td>104.0</td>\n      <td>GSW</td>\n      <td>111</td>\n      <td>1</td>\n      <td>2016</td>\n      <td>2015-10-27</td>\n      <td>False</td>\n      <td>0</td>\n    </tr>\n    <tr>\n      <th>1</th>\n      <td>240.0</td>\n      <td>38.0</td>\n      <td>94.0</td>\n      <td>0.404</td>\n      <td>9.0</td>\n      <td>29.0</td>\n      <td>0.310</td>\n      <td>10.0</td>\n      <td>17.0</td>\n      <td>0.588</td>\n      <td>...</td>\n      <td>34.6</td>\n      <td>162.0</td>\n      <td>104.0</td>\n      <td>CHI</td>\n      <td>97</td>\n      <td>1</td>\n      <td>2016</td>\n      <td>2015-10-27</td>\n      <td>False</td>\n      <td>1</td>\n    </tr>\n    <tr>\n      <th>2</th>\n      <td>240.0</td>\n      <td>37.0</td>\n      <td>87.0</td>\n      <td>0.425</td>\n      <td>7.0</td>\n      <td>19.0</td>\n      <td>0.368</td>\n      <td>16.0</td>\n      <td>23.0</td>\n      <td>0.696</td>\n      <td>...</td>\n      <td>29.0</td>\n      <td>138.0</td>\n      <td>105.0</td>\n      <td>CLE</td>\n      <td>95</td>\n      <td>0</td>\n      <td>2016</td>\n      <td>2015-10-27</td>\n      <td>True</td>\n      <td>1</td>\n    </tr>\n    <tr>\n      <th>3</th>\n      <td>240.0</td>\n      <td>41.0</td>\n      <td>96.0</td>\n      <td>0.427</td>\n      <td>9.0</td>\n      <td>30.0</td>\n      <td>0.300</td>\n      <td>20.0</td>\n      <td>22.0</td>\n      <td>0.909</td>\n      <td>...</td>\n      <td>38.9</td>\n      <td>201.0</td>\n      <td>120.0</td>\n      <td>NOP</td>\n      <td>95</td>\n      <td>0</td>\n      <td>2016</td>\n      <td>2015-10-27</td>\n      <td>True</td>\n      <td>1</td>\n    </tr>\n    <tr>\n      <th>4</th>\n      <td>240.0</td>\n      <td>37.0</td>\n      <td>82.0</td>\n      <td>0.451</td>\n      <td>8.0</td>\n      <td>27.0</td>\n      <td>0.296</td>\n      <td>12.0</td>\n      <td>15.0</td>\n      <td>0.800</td>\n      <td>...</td>\n      <td>23.6</td>\n      <td>132.0</td>\n      <td>104.0</td>\n      <td>DET</td>\n      <td>106</td>\n      <td>0</td>\n      <td>2016</td>\n      <td>2015-10-27</td>\n      <td>False</td>\n      <td>1</td>\n    </tr>\n    <tr>\n      <th>...</th>\n      <td>...</td>\n      <td>...</td>\n      <td>...</td>\n      <td>...</td>\n      <td>...</td>\n      <td>...</td>\n      <td>...</td>\n      <td>...</td>\n      <td>...</td>\n      <td>...</td>\n      <td>...</td>\n      <td>...</td>\n      <td>...</td>\n      <td>...</td>\n      <td>...</td>\n      <td>...</td>\n      <td>...</td>\n      <td>...</td>\n      <td>...</td>\n      <td>...</td>\n      <td>...</td>\n    </tr>\n    <tr>\n      <th>17767</th>\n      <td>240.0</td>\n      <td>34.0</td>\n      <td>85.0</td>\n      <td>0.400</td>\n      <td>15.0</td>\n      <td>38.0</td>\n      <td>0.395</td>\n      <td>14.0</td>\n      <td>19.0</td>\n      <td>0.737</td>\n      <td>...</td>\n      <td>36.3</td>\n      <td>133.0</td>\n      <td>112.0</td>\n      <td>GSW</td>\n      <td>107</td>\n      <td>0</td>\n      <td>2022</td>\n      <td>2022-06-10</td>\n      <td>False</td>\n      <td>0</td>\n    </tr>\n    <tr>\n      <th>17768</th>\n      <td>240.0</td>\n      <td>41.0</td>\n      <td>88.0</td>\n      <td>0.466</td>\n      <td>9.0</td>\n      <td>40.0</td>\n      <td>0.225</td>\n      <td>13.0</td>\n      <td>15.0</td>\n      <td>0.867</td>\n      <td>...</td>\n      <td>94.4</td>\n      <td>300.0</td>\n      <td>112.0</td>\n      <td>BOS</td>\n      <td>94</td>\n      <td>0</td>\n      <td>2022</td>\n      <td>2022-06-13</td>\n      <td>True</td>\n      <td>1</td>\n    </tr>\n    <tr>\n      <th>17769</th>\n      <td>240.0</td>\n      <td>31.0</td>\n      <td>75.0</td>\n      <td>0.413</td>\n      <td>11.0</td>\n      <td>32.0</td>\n      <td>0.344</td>\n      <td>21.0</td>\n      <td>31.0</td>\n      <td>0.677</td>\n      <td>...</td>\n      <td>36.2</td>\n      <td>222.0</td>\n      <td>107.0</td>\n      <td>GSW</td>\n      <td>104</td>\n      <td>1</td>\n      <td>2022</td>\n      <td>2022-06-13</td>\n      <td>False</td>\n      <td>0</td>\n    </tr>\n    <tr>\n      <th>17770</th>\n      <td>240.0</td>\n      <td>34.0</td>\n      <td>80.0</td>\n      <td>0.425</td>\n      <td>11.0</td>\n      <td>28.0</td>\n      <td>0.393</td>\n      <td>11.0</td>\n      <td>12.0</td>\n      <td>0.917</td>\n      <td>...</td>\n      <td>31.5</td>\n      <td>186.0</td>\n      <td>111.0</td>\n      <td>GSW</td>\n      <td>103</td>\n      <td>0</td>\n      <td>2022</td>\n      <td>2022-06-16</td>\n      <td>False</td>\n      <td>2</td>\n    </tr>\n    <tr>\n      <th>17771</th>\n      <td>240.0</td>\n      <td>38.0</td>\n      <td>92.0</td>\n      <td>0.413</td>\n      <td>19.0</td>\n      <td>46.0</td>\n      <td>0.413</td>\n      <td>8.0</td>\n      <td>8.0</td>\n      <td>1.000</td>\n      <td>...</td>\n      <td>42.6</td>\n      <td>141.0</td>\n      <td>126.0</td>\n      <td>BOS</td>\n      <td>90</td>\n      <td>1</td>\n      <td>2022</td>\n      <td>2022-06-16</td>\n      <td>True</td>\n      <td>2</td>\n    </tr>\n  </tbody>\n</table>\n<p>17772 rows × 142 columns</p>\n</div>"
          },
          "metadata": {}
        }
      ],
      "execution_count": 17
    },
    {
      "cell_type": "code",
      "source": "from sklearn.linear_model import RidgeClassifier\nfrom sklearn.feature_selection import SequentialFeatureSelector\nfrom sklearn.model_selection import TimeSeriesSplit\n\nrr = RidgeClassifier(alpha=1)\n\nsplit = TimeSeriesSplit(n_splits=3)\n\nsfs = SequentialFeatureSelector(rr, n_features_to_select=30, direction=\"forward\",cv=split,n_jobs=1)",
      "metadata": {
        "trusted": true
      },
      "outputs": [],
      "execution_count": 18
    },
    {
      "cell_type": "code",
      "source": "removed_columns = [\"season\", \"date\", \"won\", \"target\", \"team\", \"team_opp\"]\nselected_columns = df.columns[~df.columns.isin(removed_columns)]",
      "metadata": {
        "trusted": true
      },
      "outputs": [],
      "execution_count": 41
    },
    {
      "cell_type": "code",
      "source": "from sklearn.preprocessing import MinMaxScaler\n\nscaler = MinMaxScaler()\ndf[selected_columns] = scaler.fit_transform(df[selected_columns])",
      "metadata": {
        "trusted": true
      },
      "outputs": [],
      "execution_count": 20
    },
    {
      "cell_type": "code",
      "source": "df",
      "metadata": {
        "trusted": true
      },
      "outputs": [
        {
          "execution_count": 21,
          "output_type": "execute_result",
          "data": {
            "text/plain": "        mp        fg       fga       fg%        3p       3pa       3p%  \\\n0      0.0  0.363636  0.338235  0.366029  0.206897  0.212121  0.395487   \n1      0.0  0.431818  0.500000  0.322967  0.310345  0.378788  0.368171   \n2      0.0  0.409091  0.397059  0.373206  0.241379  0.227273  0.437055   \n3      0.0  0.500000  0.529412  0.377990  0.310345  0.393939  0.356295   \n4      0.0  0.409091  0.323529  0.435407  0.275862  0.348485  0.351544   \n...    ...       ...       ...       ...       ...       ...       ...   \n17767  0.0  0.340909  0.367647  0.313397  0.517241  0.515152  0.469121   \n17768  0.0  0.500000  0.411765  0.471292  0.310345  0.545455  0.267221   \n17769  0.0  0.272727  0.220588  0.344498  0.379310  0.424242  0.408551   \n17770  0.0  0.340909  0.294118  0.373206  0.379310  0.363636  0.466746   \n17771  0.0  0.431818  0.470588  0.344498  0.655172  0.636364  0.490499   \n\n             ft       fta       ft%  ...  usg%_max_opp  ortg_max_opp  \\\n0      0.418605  0.412698  0.654609  ...      0.277279      0.554502   \n1      0.209302  0.253968  0.519253  ...      0.160462      0.345972   \n2      0.348837  0.349206  0.645274  ...      0.088575      0.232227   \n3      0.441860  0.333333  0.893816  ...      0.215661      0.530806   \n4      0.255814  0.222222  0.766628  ...      0.019255      0.203791   \n...         ...       ...       ...  ...           ...           ...   \n17767  0.302326  0.285714  0.693116  ...      0.182285      0.208531   \n17768  0.279070  0.222222  0.844807  ...      0.928113      1.000000   \n17769  0.465116  0.476190  0.623104  ...      0.181001      0.630332   \n17770  0.232558  0.174603  0.903151  ...      0.120668      0.459716   \n17771  0.162791  0.111111  1.000000  ...      0.263158      0.246445   \n\n       drtg_max_opp  team_opp  total_opp  home_opp  season        date    won  \\\n0          0.317647       GSW   0.451923       1.0    2016  2015-10-27  False   \n1          0.317647       CHI   0.317308       1.0    2016  2015-10-27  False   \n2          0.329412       CLE   0.298077       0.0    2016  2015-10-27   True   \n3          0.505882       NOP   0.298077       0.0    2016  2015-10-27   True   \n4          0.317647       DET   0.403846       0.0    2016  2015-10-27  False   \n...             ...       ...        ...       ...     ...         ...    ...   \n17767      0.411765       GSW   0.413462       0.0    2022  2022-06-10  False   \n17768      0.411765       BOS   0.288462       0.0    2022  2022-06-13   True   \n17769      0.352941       GSW   0.384615       1.0    2022  2022-06-13  False   \n17770      0.400000       GSW   0.375000       0.0    2022  2022-06-16  False   \n17771      0.576471       BOS   0.250000       1.0    2022  2022-06-16   True   \n\n       target  \n0           0  \n1           1  \n2           1  \n3           1  \n4           1  \n...       ...  \n17767       0  \n17768       1  \n17769       0  \n17770       2  \n17771       2  \n\n[17772 rows x 142 columns]",
            "text/html": "<div>\n<style scoped>\n    .dataframe tbody tr th:only-of-type {\n        vertical-align: middle;\n    }\n\n    .dataframe tbody tr th {\n        vertical-align: top;\n    }\n\n    .dataframe thead th {\n        text-align: right;\n    }\n</style>\n<table border=\"1\" class=\"dataframe\">\n  <thead>\n    <tr style=\"text-align: right;\">\n      <th></th>\n      <th>mp</th>\n      <th>fg</th>\n      <th>fga</th>\n      <th>fg%</th>\n      <th>3p</th>\n      <th>3pa</th>\n      <th>3p%</th>\n      <th>ft</th>\n      <th>fta</th>\n      <th>ft%</th>\n      <th>...</th>\n      <th>usg%_max_opp</th>\n      <th>ortg_max_opp</th>\n      <th>drtg_max_opp</th>\n      <th>team_opp</th>\n      <th>total_opp</th>\n      <th>home_opp</th>\n      <th>season</th>\n      <th>date</th>\n      <th>won</th>\n      <th>target</th>\n    </tr>\n  </thead>\n  <tbody>\n    <tr>\n      <th>0</th>\n      <td>0.0</td>\n      <td>0.363636</td>\n      <td>0.338235</td>\n      <td>0.366029</td>\n      <td>0.206897</td>\n      <td>0.212121</td>\n      <td>0.395487</td>\n      <td>0.418605</td>\n      <td>0.412698</td>\n      <td>0.654609</td>\n      <td>...</td>\n      <td>0.277279</td>\n      <td>0.554502</td>\n      <td>0.317647</td>\n      <td>GSW</td>\n      <td>0.451923</td>\n      <td>1.0</td>\n      <td>2016</td>\n      <td>2015-10-27</td>\n      <td>False</td>\n      <td>0</td>\n    </tr>\n    <tr>\n      <th>1</th>\n      <td>0.0</td>\n      <td>0.431818</td>\n      <td>0.500000</td>\n      <td>0.322967</td>\n      <td>0.310345</td>\n      <td>0.378788</td>\n      <td>0.368171</td>\n      <td>0.209302</td>\n      <td>0.253968</td>\n      <td>0.519253</td>\n      <td>...</td>\n      <td>0.160462</td>\n      <td>0.345972</td>\n      <td>0.317647</td>\n      <td>CHI</td>\n      <td>0.317308</td>\n      <td>1.0</td>\n      <td>2016</td>\n      <td>2015-10-27</td>\n      <td>False</td>\n      <td>1</td>\n    </tr>\n    <tr>\n      <th>2</th>\n      <td>0.0</td>\n      <td>0.409091</td>\n      <td>0.397059</td>\n      <td>0.373206</td>\n      <td>0.241379</td>\n      <td>0.227273</td>\n      <td>0.437055</td>\n      <td>0.348837</td>\n      <td>0.349206</td>\n      <td>0.645274</td>\n      <td>...</td>\n      <td>0.088575</td>\n      <td>0.232227</td>\n      <td>0.329412</td>\n      <td>CLE</td>\n      <td>0.298077</td>\n      <td>0.0</td>\n      <td>2016</td>\n      <td>2015-10-27</td>\n      <td>True</td>\n      <td>1</td>\n    </tr>\n    <tr>\n      <th>3</th>\n      <td>0.0</td>\n      <td>0.500000</td>\n      <td>0.529412</td>\n      <td>0.377990</td>\n      <td>0.310345</td>\n      <td>0.393939</td>\n      <td>0.356295</td>\n      <td>0.441860</td>\n      <td>0.333333</td>\n      <td>0.893816</td>\n      <td>...</td>\n      <td>0.215661</td>\n      <td>0.530806</td>\n      <td>0.505882</td>\n      <td>NOP</td>\n      <td>0.298077</td>\n      <td>0.0</td>\n      <td>2016</td>\n      <td>2015-10-27</td>\n      <td>True</td>\n      <td>1</td>\n    </tr>\n    <tr>\n      <th>4</th>\n      <td>0.0</td>\n      <td>0.409091</td>\n      <td>0.323529</td>\n      <td>0.435407</td>\n      <td>0.275862</td>\n      <td>0.348485</td>\n      <td>0.351544</td>\n      <td>0.255814</td>\n      <td>0.222222</td>\n      <td>0.766628</td>\n      <td>...</td>\n      <td>0.019255</td>\n      <td>0.203791</td>\n      <td>0.317647</td>\n      <td>DET</td>\n      <td>0.403846</td>\n      <td>0.0</td>\n      <td>2016</td>\n      <td>2015-10-27</td>\n      <td>False</td>\n      <td>1</td>\n    </tr>\n    <tr>\n      <th>...</th>\n      <td>...</td>\n      <td>...</td>\n      <td>...</td>\n      <td>...</td>\n      <td>...</td>\n      <td>...</td>\n      <td>...</td>\n      <td>...</td>\n      <td>...</td>\n      <td>...</td>\n      <td>...</td>\n      <td>...</td>\n      <td>...</td>\n      <td>...</td>\n      <td>...</td>\n      <td>...</td>\n      <td>...</td>\n      <td>...</td>\n      <td>...</td>\n      <td>...</td>\n      <td>...</td>\n    </tr>\n    <tr>\n      <th>17767</th>\n      <td>0.0</td>\n      <td>0.340909</td>\n      <td>0.367647</td>\n      <td>0.313397</td>\n      <td>0.517241</td>\n      <td>0.515152</td>\n      <td>0.469121</td>\n      <td>0.302326</td>\n      <td>0.285714</td>\n      <td>0.693116</td>\n      <td>...</td>\n      <td>0.182285</td>\n      <td>0.208531</td>\n      <td>0.411765</td>\n      <td>GSW</td>\n      <td>0.413462</td>\n      <td>0.0</td>\n      <td>2022</td>\n      <td>2022-06-10</td>\n      <td>False</td>\n      <td>0</td>\n    </tr>\n    <tr>\n      <th>17768</th>\n      <td>0.0</td>\n      <td>0.500000</td>\n      <td>0.411765</td>\n      <td>0.471292</td>\n      <td>0.310345</td>\n      <td>0.545455</td>\n      <td>0.267221</td>\n      <td>0.279070</td>\n      <td>0.222222</td>\n      <td>0.844807</td>\n      <td>...</td>\n      <td>0.928113</td>\n      <td>1.000000</td>\n      <td>0.411765</td>\n      <td>BOS</td>\n      <td>0.288462</td>\n      <td>0.0</td>\n      <td>2022</td>\n      <td>2022-06-13</td>\n      <td>True</td>\n      <td>1</td>\n    </tr>\n    <tr>\n      <th>17769</th>\n      <td>0.0</td>\n      <td>0.272727</td>\n      <td>0.220588</td>\n      <td>0.344498</td>\n      <td>0.379310</td>\n      <td>0.424242</td>\n      <td>0.408551</td>\n      <td>0.465116</td>\n      <td>0.476190</td>\n      <td>0.623104</td>\n      <td>...</td>\n      <td>0.181001</td>\n      <td>0.630332</td>\n      <td>0.352941</td>\n      <td>GSW</td>\n      <td>0.384615</td>\n      <td>1.0</td>\n      <td>2022</td>\n      <td>2022-06-13</td>\n      <td>False</td>\n      <td>0</td>\n    </tr>\n    <tr>\n      <th>17770</th>\n      <td>0.0</td>\n      <td>0.340909</td>\n      <td>0.294118</td>\n      <td>0.373206</td>\n      <td>0.379310</td>\n      <td>0.363636</td>\n      <td>0.466746</td>\n      <td>0.232558</td>\n      <td>0.174603</td>\n      <td>0.903151</td>\n      <td>...</td>\n      <td>0.120668</td>\n      <td>0.459716</td>\n      <td>0.400000</td>\n      <td>GSW</td>\n      <td>0.375000</td>\n      <td>0.0</td>\n      <td>2022</td>\n      <td>2022-06-16</td>\n      <td>False</td>\n      <td>2</td>\n    </tr>\n    <tr>\n      <th>17771</th>\n      <td>0.0</td>\n      <td>0.431818</td>\n      <td>0.470588</td>\n      <td>0.344498</td>\n      <td>0.655172</td>\n      <td>0.636364</td>\n      <td>0.490499</td>\n      <td>0.162791</td>\n      <td>0.111111</td>\n      <td>1.000000</td>\n      <td>...</td>\n      <td>0.263158</td>\n      <td>0.246445</td>\n      <td>0.576471</td>\n      <td>BOS</td>\n      <td>0.250000</td>\n      <td>1.0</td>\n      <td>2022</td>\n      <td>2022-06-16</td>\n      <td>True</td>\n      <td>2</td>\n    </tr>\n  </tbody>\n</table>\n<p>17772 rows × 142 columns</p>\n</div>"
          },
          "metadata": {}
        }
      ],
      "execution_count": 21
    },
    {
      "cell_type": "code",
      "source": "sfs.fit(df[selected_columns], df[\"target\"])",
      "metadata": {
        "trusted": true
      },
      "outputs": [
        {
          "execution_count": 22,
          "output_type": "execute_result",
          "data": {
            "text/plain": "SequentialFeatureSelector(cv=TimeSeriesSplit(gap=0, max_train_size=None, n_splits=3, test_size=None),\n                          estimator=RidgeClassifier(alpha=1),\n                          n_features_to_select=30, n_jobs=1)",
            "text/html": "<style>#sk-container-id-1 {color: black;}#sk-container-id-1 pre{padding: 0;}#sk-container-id-1 div.sk-toggleable {background-color: white;}#sk-container-id-1 label.sk-toggleable__label {cursor: pointer;display: block;width: 100%;margin-bottom: 0;padding: 0.3em;box-sizing: border-box;text-align: center;}#sk-container-id-1 label.sk-toggleable__label-arrow:before {content: \"▸\";float: left;margin-right: 0.25em;color: #696969;}#sk-container-id-1 label.sk-toggleable__label-arrow:hover:before {color: black;}#sk-container-id-1 div.sk-estimator:hover label.sk-toggleable__label-arrow:before {color: black;}#sk-container-id-1 div.sk-toggleable__content {max-height: 0;max-width: 0;overflow: hidden;text-align: left;background-color: #f0f8ff;}#sk-container-id-1 div.sk-toggleable__content pre {margin: 0.2em;color: black;border-radius: 0.25em;background-color: #f0f8ff;}#sk-container-id-1 input.sk-toggleable__control:checked~div.sk-toggleable__content {max-height: 200px;max-width: 100%;overflow: auto;}#sk-container-id-1 input.sk-toggleable__control:checked~label.sk-toggleable__label-arrow:before {content: \"▾\";}#sk-container-id-1 div.sk-estimator input.sk-toggleable__control:checked~label.sk-toggleable__label {background-color: #d4ebff;}#sk-container-id-1 div.sk-label input.sk-toggleable__control:checked~label.sk-toggleable__label {background-color: #d4ebff;}#sk-container-id-1 input.sk-hidden--visually {border: 0;clip: rect(1px 1px 1px 1px);clip: rect(1px, 1px, 1px, 1px);height: 1px;margin: -1px;overflow: hidden;padding: 0;position: absolute;width: 1px;}#sk-container-id-1 div.sk-estimator {font-family: monospace;background-color: #f0f8ff;border: 1px dotted black;border-radius: 0.25em;box-sizing: border-box;margin-bottom: 0.5em;}#sk-container-id-1 div.sk-estimator:hover {background-color: #d4ebff;}#sk-container-id-1 div.sk-parallel-item::after {content: \"\";width: 100%;border-bottom: 1px solid gray;flex-grow: 1;}#sk-container-id-1 div.sk-label:hover label.sk-toggleable__label {background-color: #d4ebff;}#sk-container-id-1 div.sk-serial::before {content: \"\";position: absolute;border-left: 1px solid gray;box-sizing: border-box;top: 0;bottom: 0;left: 50%;z-index: 0;}#sk-container-id-1 div.sk-serial {display: flex;flex-direction: column;align-items: center;background-color: white;padding-right: 0.2em;padding-left: 0.2em;position: relative;}#sk-container-id-1 div.sk-item {position: relative;z-index: 1;}#sk-container-id-1 div.sk-parallel {display: flex;align-items: stretch;justify-content: center;background-color: white;position: relative;}#sk-container-id-1 div.sk-item::before, #sk-container-id-1 div.sk-parallel-item::before {content: \"\";position: absolute;border-left: 1px solid gray;box-sizing: border-box;top: 0;bottom: 0;left: 50%;z-index: -1;}#sk-container-id-1 div.sk-parallel-item {display: flex;flex-direction: column;z-index: 1;position: relative;background-color: white;}#sk-container-id-1 div.sk-parallel-item:first-child::after {align-self: flex-end;width: 50%;}#sk-container-id-1 div.sk-parallel-item:last-child::after {align-self: flex-start;width: 50%;}#sk-container-id-1 div.sk-parallel-item:only-child::after {width: 0;}#sk-container-id-1 div.sk-dashed-wrapped {border: 1px dashed gray;margin: 0 0.4em 0.5em 0.4em;box-sizing: border-box;padding-bottom: 0.4em;background-color: white;}#sk-container-id-1 div.sk-label label {font-family: monospace;font-weight: bold;display: inline-block;line-height: 1.2em;}#sk-container-id-1 div.sk-label-container {text-align: center;}#sk-container-id-1 div.sk-container {/* jupyter's `normalize.less` sets `[hidden] { display: none; }` but bootstrap.min.css set `[hidden] { display: none !important; }` so we also need the `!important` here to be able to override the default hidden behavior on the sphinx rendered scikit-learn.org. See: https://github.com/scikit-learn/scikit-learn/issues/21755 */display: inline-block !important;position: relative;}#sk-container-id-1 div.sk-text-repr-fallback {display: none;}</style><div id=\"sk-container-id-1\" class=\"sk-top-container\"><div class=\"sk-text-repr-fallback\"><pre>SequentialFeatureSelector(cv=TimeSeriesSplit(gap=0, max_train_size=None, n_splits=3, test_size=None),\n                          estimator=RidgeClassifier(alpha=1),\n                          n_features_to_select=30, n_jobs=1)</pre><b>In a Jupyter environment, please rerun this cell to show the HTML representation or trust the notebook. <br />On GitHub, the HTML representation is unable to render, please try loading this page with nbviewer.org.</b></div><div class=\"sk-container\" hidden><div class=\"sk-item sk-dashed-wrapped\"><div class=\"sk-label-container\"><div class=\"sk-label sk-toggleable\"><input class=\"sk-toggleable__control sk-hidden--visually\" id=\"sk-estimator-id-1\" type=\"checkbox\" ><label for=\"sk-estimator-id-1\" class=\"sk-toggleable__label sk-toggleable__label-arrow\">SequentialFeatureSelector</label><div class=\"sk-toggleable__content\"><pre>SequentialFeatureSelector(cv=TimeSeriesSplit(gap=0, max_train_size=None, n_splits=3, test_size=None),\n                          estimator=RidgeClassifier(alpha=1),\n                          n_features_to_select=30, n_jobs=1)</pre></div></div></div><div class=\"sk-parallel\"><div class=\"sk-parallel-item\"><div class=\"sk-item\"><div class=\"sk-label-container\"><div class=\"sk-label sk-toggleable\"><input class=\"sk-toggleable__control sk-hidden--visually\" id=\"sk-estimator-id-2\" type=\"checkbox\" ><label for=\"sk-estimator-id-2\" class=\"sk-toggleable__label sk-toggleable__label-arrow\">estimator: RidgeClassifier</label><div class=\"sk-toggleable__content\"><pre>RidgeClassifier(alpha=1)</pre></div></div></div><div class=\"sk-serial\"><div class=\"sk-item\"><div class=\"sk-estimator sk-toggleable\"><input class=\"sk-toggleable__control sk-hidden--visually\" id=\"sk-estimator-id-3\" type=\"checkbox\" ><label for=\"sk-estimator-id-3\" class=\"sk-toggleable__label sk-toggleable__label-arrow\">RidgeClassifier</label><div class=\"sk-toggleable__content\"><pre>RidgeClassifier(alpha=1)</pre></div></div></div></div></div></div></div></div></div></div>"
          },
          "metadata": {}
        }
      ],
      "execution_count": 22
    },
    {
      "cell_type": "code",
      "source": "predictors = list(selected_columns[sfs.get_support()])",
      "metadata": {
        "trusted": true
      },
      "outputs": [],
      "execution_count": 23
    },
    {
      "cell_type": "code",
      "source": "predictors",
      "metadata": {
        "trusted": true
      },
      "outputs": [
        {
          "execution_count": 24,
          "output_type": "execute_result",
          "data": {
            "text/plain": "['mp',\n 'fg%',\n '3p%',\n 'orb',\n 'ts%',\n 'usg%',\n '3p%_max',\n 'ft_max',\n 'fta_max',\n '+/-_max',\n 'drb%_max',\n 'trb%_max',\n 'tov%_max',\n 'usg%_max',\n 'mp_opp',\n 'fg_opp',\n '3p_opp',\n 'ft%_opp',\n 'blk_opp',\n 'usg%_opp',\n 'fga_max_opp',\n '3p_max_opp',\n 'ft_max_opp',\n 'ft%_max_opp',\n 'blk_max_opp',\n 'pf_max_opp',\n 'pts_max_opp',\n 'drb%_max_opp',\n 'blk%_max_opp',\n 'usg%_max_opp']"
          },
          "metadata": {}
        }
      ],
      "execution_count": 24
    },
    {
      "cell_type": "code",
      "source": "def backtest(data, model, predictors, start=2, step=1):\n    all_predictions = []\n    \n    seasons = sorted(data[\"season\"].unique())\n    \n    for i in range(start, len(seasons), step):\n        season = seasons[i]\n        train = data[data[\"season\"] < season]\n        test = data[data[\"season\"] == season]\n        \n        model.fit(train[predictors], train[\"target\"])\n        \n        preds = model.predict(test[predictors])\n        preds = pd.Series(preds, index=test.index)\n        combined = pd.concat([test[\"target\"], preds], axis=1)\n        combined.columns = [\"actual\", \"prediction\"]\n        \n        all_predictions.append(combined)\n    return pd.concat(all_predictions)",
      "metadata": {
        "trusted": true
      },
      "outputs": [],
      "execution_count": 25
    },
    {
      "cell_type": "code",
      "source": "predictions = backtest(df, rr, predictors)",
      "metadata": {
        "trusted": true
      },
      "outputs": [],
      "execution_count": 26
    },
    {
      "cell_type": "code",
      "source": "from sklearn.metrics import accuracy_score\n\naccuracy_score(predictions[\"actual\"], predictions[\"prediction\"])",
      "metadata": {
        "trusted": true
      },
      "outputs": [
        {
          "execution_count": 27,
          "output_type": "execute_result",
          "data": {
            "text/plain": "0.5471969333972209"
          },
          "metadata": {}
        }
      ],
      "execution_count": 27
    },
    {
      "cell_type": "code",
      "source": "df.groupby([\"home\"]).apply(lambda x: x[x[\"won\"] == 1].shape[0] / x.shape[0])",
      "metadata": {
        "trusted": true
      },
      "outputs": [
        {
          "execution_count": 28,
          "output_type": "execute_result",
          "data": {
            "text/plain": "home\n0.0    0.428314\n1.0    0.571686\ndtype: float64"
          },
          "metadata": {}
        }
      ],
      "execution_count": 28
    },
    {
      "cell_type": "code",
      "source": "df",
      "metadata": {
        "trusted": true
      },
      "outputs": [
        {
          "execution_count": 29,
          "output_type": "execute_result",
          "data": {
            "text/plain": "        mp        fg       fga       fg%        3p       3pa       3p%  \\\n0      0.0  0.363636  0.338235  0.366029  0.206897  0.212121  0.395487   \n1      0.0  0.431818  0.500000  0.322967  0.310345  0.378788  0.368171   \n2      0.0  0.409091  0.397059  0.373206  0.241379  0.227273  0.437055   \n3      0.0  0.500000  0.529412  0.377990  0.310345  0.393939  0.356295   \n4      0.0  0.409091  0.323529  0.435407  0.275862  0.348485  0.351544   \n...    ...       ...       ...       ...       ...       ...       ...   \n17767  0.0  0.340909  0.367647  0.313397  0.517241  0.515152  0.469121   \n17768  0.0  0.500000  0.411765  0.471292  0.310345  0.545455  0.267221   \n17769  0.0  0.272727  0.220588  0.344498  0.379310  0.424242  0.408551   \n17770  0.0  0.340909  0.294118  0.373206  0.379310  0.363636  0.466746   \n17771  0.0  0.431818  0.470588  0.344498  0.655172  0.636364  0.490499   \n\n             ft       fta       ft%  ...  usg%_max_opp  ortg_max_opp  \\\n0      0.418605  0.412698  0.654609  ...      0.277279      0.554502   \n1      0.209302  0.253968  0.519253  ...      0.160462      0.345972   \n2      0.348837  0.349206  0.645274  ...      0.088575      0.232227   \n3      0.441860  0.333333  0.893816  ...      0.215661      0.530806   \n4      0.255814  0.222222  0.766628  ...      0.019255      0.203791   \n...         ...       ...       ...  ...           ...           ...   \n17767  0.302326  0.285714  0.693116  ...      0.182285      0.208531   \n17768  0.279070  0.222222  0.844807  ...      0.928113      1.000000   \n17769  0.465116  0.476190  0.623104  ...      0.181001      0.630332   \n17770  0.232558  0.174603  0.903151  ...      0.120668      0.459716   \n17771  0.162791  0.111111  1.000000  ...      0.263158      0.246445   \n\n       drtg_max_opp  team_opp  total_opp  home_opp  season        date    won  \\\n0          0.317647       GSW   0.451923       1.0    2016  2015-10-27  False   \n1          0.317647       CHI   0.317308       1.0    2016  2015-10-27  False   \n2          0.329412       CLE   0.298077       0.0    2016  2015-10-27   True   \n3          0.505882       NOP   0.298077       0.0    2016  2015-10-27   True   \n4          0.317647       DET   0.403846       0.0    2016  2015-10-27  False   \n...             ...       ...        ...       ...     ...         ...    ...   \n17767      0.411765       GSW   0.413462       0.0    2022  2022-06-10  False   \n17768      0.411765       BOS   0.288462       0.0    2022  2022-06-13   True   \n17769      0.352941       GSW   0.384615       1.0    2022  2022-06-13  False   \n17770      0.400000       GSW   0.375000       0.0    2022  2022-06-16  False   \n17771      0.576471       BOS   0.250000       1.0    2022  2022-06-16   True   \n\n       target  \n0           0  \n1           1  \n2           1  \n3           1  \n4           1  \n...       ...  \n17767       0  \n17768       1  \n17769       0  \n17770       2  \n17771       2  \n\n[17772 rows x 142 columns]",
            "text/html": "<div>\n<style scoped>\n    .dataframe tbody tr th:only-of-type {\n        vertical-align: middle;\n    }\n\n    .dataframe tbody tr th {\n        vertical-align: top;\n    }\n\n    .dataframe thead th {\n        text-align: right;\n    }\n</style>\n<table border=\"1\" class=\"dataframe\">\n  <thead>\n    <tr style=\"text-align: right;\">\n      <th></th>\n      <th>mp</th>\n      <th>fg</th>\n      <th>fga</th>\n      <th>fg%</th>\n      <th>3p</th>\n      <th>3pa</th>\n      <th>3p%</th>\n      <th>ft</th>\n      <th>fta</th>\n      <th>ft%</th>\n      <th>...</th>\n      <th>usg%_max_opp</th>\n      <th>ortg_max_opp</th>\n      <th>drtg_max_opp</th>\n      <th>team_opp</th>\n      <th>total_opp</th>\n      <th>home_opp</th>\n      <th>season</th>\n      <th>date</th>\n      <th>won</th>\n      <th>target</th>\n    </tr>\n  </thead>\n  <tbody>\n    <tr>\n      <th>0</th>\n      <td>0.0</td>\n      <td>0.363636</td>\n      <td>0.338235</td>\n      <td>0.366029</td>\n      <td>0.206897</td>\n      <td>0.212121</td>\n      <td>0.395487</td>\n      <td>0.418605</td>\n      <td>0.412698</td>\n      <td>0.654609</td>\n      <td>...</td>\n      <td>0.277279</td>\n      <td>0.554502</td>\n      <td>0.317647</td>\n      <td>GSW</td>\n      <td>0.451923</td>\n      <td>1.0</td>\n      <td>2016</td>\n      <td>2015-10-27</td>\n      <td>False</td>\n      <td>0</td>\n    </tr>\n    <tr>\n      <th>1</th>\n      <td>0.0</td>\n      <td>0.431818</td>\n      <td>0.500000</td>\n      <td>0.322967</td>\n      <td>0.310345</td>\n      <td>0.378788</td>\n      <td>0.368171</td>\n      <td>0.209302</td>\n      <td>0.253968</td>\n      <td>0.519253</td>\n      <td>...</td>\n      <td>0.160462</td>\n      <td>0.345972</td>\n      <td>0.317647</td>\n      <td>CHI</td>\n      <td>0.317308</td>\n      <td>1.0</td>\n      <td>2016</td>\n      <td>2015-10-27</td>\n      <td>False</td>\n      <td>1</td>\n    </tr>\n    <tr>\n      <th>2</th>\n      <td>0.0</td>\n      <td>0.409091</td>\n      <td>0.397059</td>\n      <td>0.373206</td>\n      <td>0.241379</td>\n      <td>0.227273</td>\n      <td>0.437055</td>\n      <td>0.348837</td>\n      <td>0.349206</td>\n      <td>0.645274</td>\n      <td>...</td>\n      <td>0.088575</td>\n      <td>0.232227</td>\n      <td>0.329412</td>\n      <td>CLE</td>\n      <td>0.298077</td>\n      <td>0.0</td>\n      <td>2016</td>\n      <td>2015-10-27</td>\n      <td>True</td>\n      <td>1</td>\n    </tr>\n    <tr>\n      <th>3</th>\n      <td>0.0</td>\n      <td>0.500000</td>\n      <td>0.529412</td>\n      <td>0.377990</td>\n      <td>0.310345</td>\n      <td>0.393939</td>\n      <td>0.356295</td>\n      <td>0.441860</td>\n      <td>0.333333</td>\n      <td>0.893816</td>\n      <td>...</td>\n      <td>0.215661</td>\n      <td>0.530806</td>\n      <td>0.505882</td>\n      <td>NOP</td>\n      <td>0.298077</td>\n      <td>0.0</td>\n      <td>2016</td>\n      <td>2015-10-27</td>\n      <td>True</td>\n      <td>1</td>\n    </tr>\n    <tr>\n      <th>4</th>\n      <td>0.0</td>\n      <td>0.409091</td>\n      <td>0.323529</td>\n      <td>0.435407</td>\n      <td>0.275862</td>\n      <td>0.348485</td>\n      <td>0.351544</td>\n      <td>0.255814</td>\n      <td>0.222222</td>\n      <td>0.766628</td>\n      <td>...</td>\n      <td>0.019255</td>\n      <td>0.203791</td>\n      <td>0.317647</td>\n      <td>DET</td>\n      <td>0.403846</td>\n      <td>0.0</td>\n      <td>2016</td>\n      <td>2015-10-27</td>\n      <td>False</td>\n      <td>1</td>\n    </tr>\n    <tr>\n      <th>...</th>\n      <td>...</td>\n      <td>...</td>\n      <td>...</td>\n      <td>...</td>\n      <td>...</td>\n      <td>...</td>\n      <td>...</td>\n      <td>...</td>\n      <td>...</td>\n      <td>...</td>\n      <td>...</td>\n      <td>...</td>\n      <td>...</td>\n      <td>...</td>\n      <td>...</td>\n      <td>...</td>\n      <td>...</td>\n      <td>...</td>\n      <td>...</td>\n      <td>...</td>\n      <td>...</td>\n    </tr>\n    <tr>\n      <th>17767</th>\n      <td>0.0</td>\n      <td>0.340909</td>\n      <td>0.367647</td>\n      <td>0.313397</td>\n      <td>0.517241</td>\n      <td>0.515152</td>\n      <td>0.469121</td>\n      <td>0.302326</td>\n      <td>0.285714</td>\n      <td>0.693116</td>\n      <td>...</td>\n      <td>0.182285</td>\n      <td>0.208531</td>\n      <td>0.411765</td>\n      <td>GSW</td>\n      <td>0.413462</td>\n      <td>0.0</td>\n      <td>2022</td>\n      <td>2022-06-10</td>\n      <td>False</td>\n      <td>0</td>\n    </tr>\n    <tr>\n      <th>17768</th>\n      <td>0.0</td>\n      <td>0.500000</td>\n      <td>0.411765</td>\n      <td>0.471292</td>\n      <td>0.310345</td>\n      <td>0.545455</td>\n      <td>0.267221</td>\n      <td>0.279070</td>\n      <td>0.222222</td>\n      <td>0.844807</td>\n      <td>...</td>\n      <td>0.928113</td>\n      <td>1.000000</td>\n      <td>0.411765</td>\n      <td>BOS</td>\n      <td>0.288462</td>\n      <td>0.0</td>\n      <td>2022</td>\n      <td>2022-06-13</td>\n      <td>True</td>\n      <td>1</td>\n    </tr>\n    <tr>\n      <th>17769</th>\n      <td>0.0</td>\n      <td>0.272727</td>\n      <td>0.220588</td>\n      <td>0.344498</td>\n      <td>0.379310</td>\n      <td>0.424242</td>\n      <td>0.408551</td>\n      <td>0.465116</td>\n      <td>0.476190</td>\n      <td>0.623104</td>\n      <td>...</td>\n      <td>0.181001</td>\n      <td>0.630332</td>\n      <td>0.352941</td>\n      <td>GSW</td>\n      <td>0.384615</td>\n      <td>1.0</td>\n      <td>2022</td>\n      <td>2022-06-13</td>\n      <td>False</td>\n      <td>0</td>\n    </tr>\n    <tr>\n      <th>17770</th>\n      <td>0.0</td>\n      <td>0.340909</td>\n      <td>0.294118</td>\n      <td>0.373206</td>\n      <td>0.379310</td>\n      <td>0.363636</td>\n      <td>0.466746</td>\n      <td>0.232558</td>\n      <td>0.174603</td>\n      <td>0.903151</td>\n      <td>...</td>\n      <td>0.120668</td>\n      <td>0.459716</td>\n      <td>0.400000</td>\n      <td>GSW</td>\n      <td>0.375000</td>\n      <td>0.0</td>\n      <td>2022</td>\n      <td>2022-06-16</td>\n      <td>False</td>\n      <td>2</td>\n    </tr>\n    <tr>\n      <th>17771</th>\n      <td>0.0</td>\n      <td>0.431818</td>\n      <td>0.470588</td>\n      <td>0.344498</td>\n      <td>0.655172</td>\n      <td>0.636364</td>\n      <td>0.490499</td>\n      <td>0.162791</td>\n      <td>0.111111</td>\n      <td>1.000000</td>\n      <td>...</td>\n      <td>0.263158</td>\n      <td>0.246445</td>\n      <td>0.576471</td>\n      <td>BOS</td>\n      <td>0.250000</td>\n      <td>1.0</td>\n      <td>2022</td>\n      <td>2022-06-16</td>\n      <td>True</td>\n      <td>2</td>\n    </tr>\n  </tbody>\n</table>\n<p>17772 rows × 142 columns</p>\n</div>"
          },
          "metadata": {}
        }
      ],
      "execution_count": 29
    },
    {
      "cell_type": "code",
      "source": "df_rolling = df[list(selected_columns) + [\"won\", \"team\", \"season\"]]\n\ndef find_team_averages(team):\n    rolling = team.rolling(10).mean()\n    return rolling\n\ndf_rolling = df_rolling.groupby([\"team\", \"season\"], group_keys=False).apply(find_team_averages)",
      "metadata": {
        "trusted": true
      },
      "outputs": [
        {
          "name": "stderr",
          "text": "<ipython-input-30-5a6a4f0e3a7c>:4: FutureWarning: Dropping of nuisance columns in rolling operations is deprecated; in a future version this will raise TypeError. Select only valid columns before calling the operation. Dropped columns were Index(['team'], dtype='object')\n  rolling = team.rolling(10).mean()\n",
          "output_type": "stream"
        }
      ],
      "execution_count": 30
    },
    {
      "cell_type": "code",
      "source": "df_rolling",
      "metadata": {
        "trusted": true
      },
      "outputs": [
        {
          "execution_count": 31,
          "output_type": "execute_result",
          "data": {
            "text/plain": "        mp        fg       fga       fg%        3p       3pa       3p%  \\\n0      NaN       NaN       NaN       NaN       NaN       NaN       NaN   \n1      NaN       NaN       NaN       NaN       NaN       NaN       NaN   \n2      NaN       NaN       NaN       NaN       NaN       NaN       NaN   \n3      NaN       NaN       NaN       NaN       NaN       NaN       NaN   \n4      NaN       NaN       NaN       NaN       NaN       NaN       NaN   \n...    ...       ...       ...       ...       ...       ...       ...   \n17767  0.0  0.381818  0.292647  0.428230  0.468966  0.477273  0.448100   \n17768  0.0  0.502273  0.364706  0.517703  0.455172  0.481818  0.440736   \n17769  0.0  0.354545  0.279412  0.404545  0.437931  0.465152  0.429572   \n17770  0.0  0.354545  0.294118  0.389952  0.434483  0.459091  0.431710   \n17771  0.0  0.484091  0.379412  0.482297  0.486207  0.507576  0.448812   \n\n             ft       fta       ft%  ...  stl%_max_opp  blk%_max_opp  \\\n0           NaN       NaN       NaN  ...           NaN           NaN   \n1           NaN       NaN       NaN  ...           NaN           NaN   \n2           NaN       NaN       NaN  ...           NaN           NaN   \n3           NaN       NaN       NaN  ...           NaN           NaN   \n4           NaN       NaN       NaN  ...           NaN           NaN   \n...         ...       ...       ...  ...           ...           ...   \n17767  0.434884  0.373016  0.764177  ...        0.0570        0.1113   \n17768  0.320930  0.282540  0.757993  ...        0.0716        0.1171   \n17769  0.434884  0.385714  0.736639  ...        0.0591        0.1113   \n17770  0.406977  0.357143  0.754142  ...        0.0572        0.1111   \n17771  0.316279  0.269841  0.801750  ...        0.0656        0.1152   \n\n       tov%_max_opp  usg%_max_opp  ortg_max_opp  drtg_max_opp  total_opp  \\\n0               NaN           NaN           NaN           NaN        NaN   \n1               NaN           NaN           NaN           NaN        NaN   \n2               NaN           NaN           NaN           NaN        NaN   \n3               NaN           NaN           NaN           NaN        NaN   \n4               NaN           NaN           NaN           NaN        NaN   \n...             ...           ...           ...           ...        ...   \n17767      0.471908      0.170603      0.431754      0.522353   0.348077   \n17768      0.374109      0.321566      0.642654      0.564706   0.392308   \n17769      0.483229      0.174711      0.438863      0.483529   0.350000   \n17770      0.483229      0.172144      0.460190      0.472941   0.344231   \n17771      0.444025      0.308601      0.628910      0.568235   0.395192   \n\n       home_opp  won  season  \n0           NaN  NaN     NaN  \n1           NaN  NaN     NaN  \n2           NaN  NaN     NaN  \n3           NaN  NaN     NaN  \n4           NaN  NaN     NaN  \n...         ...  ...     ...  \n17767       0.5  0.6  2022.0  \n17768       0.4  0.7  2022.0  \n17769       0.5  0.5  2022.0  \n17770       0.5  0.5  2022.0  \n17771       0.5  0.7  2022.0  \n\n[17772 rows x 138 columns]",
            "text/html": "<div>\n<style scoped>\n    .dataframe tbody tr th:only-of-type {\n        vertical-align: middle;\n    }\n\n    .dataframe tbody tr th {\n        vertical-align: top;\n    }\n\n    .dataframe thead th {\n        text-align: right;\n    }\n</style>\n<table border=\"1\" class=\"dataframe\">\n  <thead>\n    <tr style=\"text-align: right;\">\n      <th></th>\n      <th>mp</th>\n      <th>fg</th>\n      <th>fga</th>\n      <th>fg%</th>\n      <th>3p</th>\n      <th>3pa</th>\n      <th>3p%</th>\n      <th>ft</th>\n      <th>fta</th>\n      <th>ft%</th>\n      <th>...</th>\n      <th>stl%_max_opp</th>\n      <th>blk%_max_opp</th>\n      <th>tov%_max_opp</th>\n      <th>usg%_max_opp</th>\n      <th>ortg_max_opp</th>\n      <th>drtg_max_opp</th>\n      <th>total_opp</th>\n      <th>home_opp</th>\n      <th>won</th>\n      <th>season</th>\n    </tr>\n  </thead>\n  <tbody>\n    <tr>\n      <th>0</th>\n      <td>NaN</td>\n      <td>NaN</td>\n      <td>NaN</td>\n      <td>NaN</td>\n      <td>NaN</td>\n      <td>NaN</td>\n      <td>NaN</td>\n      <td>NaN</td>\n      <td>NaN</td>\n      <td>NaN</td>\n      <td>...</td>\n      <td>NaN</td>\n      <td>NaN</td>\n      <td>NaN</td>\n      <td>NaN</td>\n      <td>NaN</td>\n      <td>NaN</td>\n      <td>NaN</td>\n      <td>NaN</td>\n      <td>NaN</td>\n      <td>NaN</td>\n    </tr>\n    <tr>\n      <th>1</th>\n      <td>NaN</td>\n      <td>NaN</td>\n      <td>NaN</td>\n      <td>NaN</td>\n      <td>NaN</td>\n      <td>NaN</td>\n      <td>NaN</td>\n      <td>NaN</td>\n      <td>NaN</td>\n      <td>NaN</td>\n      <td>...</td>\n      <td>NaN</td>\n      <td>NaN</td>\n      <td>NaN</td>\n      <td>NaN</td>\n      <td>NaN</td>\n      <td>NaN</td>\n      <td>NaN</td>\n      <td>NaN</td>\n      <td>NaN</td>\n      <td>NaN</td>\n    </tr>\n    <tr>\n      <th>2</th>\n      <td>NaN</td>\n      <td>NaN</td>\n      <td>NaN</td>\n      <td>NaN</td>\n      <td>NaN</td>\n      <td>NaN</td>\n      <td>NaN</td>\n      <td>NaN</td>\n      <td>NaN</td>\n      <td>NaN</td>\n      <td>...</td>\n      <td>NaN</td>\n      <td>NaN</td>\n      <td>NaN</td>\n      <td>NaN</td>\n      <td>NaN</td>\n      <td>NaN</td>\n      <td>NaN</td>\n      <td>NaN</td>\n      <td>NaN</td>\n      <td>NaN</td>\n    </tr>\n    <tr>\n      <th>3</th>\n      <td>NaN</td>\n      <td>NaN</td>\n      <td>NaN</td>\n      <td>NaN</td>\n      <td>NaN</td>\n      <td>NaN</td>\n      <td>NaN</td>\n      <td>NaN</td>\n      <td>NaN</td>\n      <td>NaN</td>\n      <td>...</td>\n      <td>NaN</td>\n      <td>NaN</td>\n      <td>NaN</td>\n      <td>NaN</td>\n      <td>NaN</td>\n      <td>NaN</td>\n      <td>NaN</td>\n      <td>NaN</td>\n      <td>NaN</td>\n      <td>NaN</td>\n    </tr>\n    <tr>\n      <th>4</th>\n      <td>NaN</td>\n      <td>NaN</td>\n      <td>NaN</td>\n      <td>NaN</td>\n      <td>NaN</td>\n      <td>NaN</td>\n      <td>NaN</td>\n      <td>NaN</td>\n      <td>NaN</td>\n      <td>NaN</td>\n      <td>...</td>\n      <td>NaN</td>\n      <td>NaN</td>\n      <td>NaN</td>\n      <td>NaN</td>\n      <td>NaN</td>\n      <td>NaN</td>\n      <td>NaN</td>\n      <td>NaN</td>\n      <td>NaN</td>\n      <td>NaN</td>\n    </tr>\n    <tr>\n      <th>...</th>\n      <td>...</td>\n      <td>...</td>\n      <td>...</td>\n      <td>...</td>\n      <td>...</td>\n      <td>...</td>\n      <td>...</td>\n      <td>...</td>\n      <td>...</td>\n      <td>...</td>\n      <td>...</td>\n      <td>...</td>\n      <td>...</td>\n      <td>...</td>\n      <td>...</td>\n      <td>...</td>\n      <td>...</td>\n      <td>...</td>\n      <td>...</td>\n      <td>...</td>\n      <td>...</td>\n    </tr>\n    <tr>\n      <th>17767</th>\n      <td>0.0</td>\n      <td>0.381818</td>\n      <td>0.292647</td>\n      <td>0.428230</td>\n      <td>0.468966</td>\n      <td>0.477273</td>\n      <td>0.448100</td>\n      <td>0.434884</td>\n      <td>0.373016</td>\n      <td>0.764177</td>\n      <td>...</td>\n      <td>0.0570</td>\n      <td>0.1113</td>\n      <td>0.471908</td>\n      <td>0.170603</td>\n      <td>0.431754</td>\n      <td>0.522353</td>\n      <td>0.348077</td>\n      <td>0.5</td>\n      <td>0.6</td>\n      <td>2022.0</td>\n    </tr>\n    <tr>\n      <th>17768</th>\n      <td>0.0</td>\n      <td>0.502273</td>\n      <td>0.364706</td>\n      <td>0.517703</td>\n      <td>0.455172</td>\n      <td>0.481818</td>\n      <td>0.440736</td>\n      <td>0.320930</td>\n      <td>0.282540</td>\n      <td>0.757993</td>\n      <td>...</td>\n      <td>0.0716</td>\n      <td>0.1171</td>\n      <td>0.374109</td>\n      <td>0.321566</td>\n      <td>0.642654</td>\n      <td>0.564706</td>\n      <td>0.392308</td>\n      <td>0.4</td>\n      <td>0.7</td>\n      <td>2022.0</td>\n    </tr>\n    <tr>\n      <th>17769</th>\n      <td>0.0</td>\n      <td>0.354545</td>\n      <td>0.279412</td>\n      <td>0.404545</td>\n      <td>0.437931</td>\n      <td>0.465152</td>\n      <td>0.429572</td>\n      <td>0.434884</td>\n      <td>0.385714</td>\n      <td>0.736639</td>\n      <td>...</td>\n      <td>0.0591</td>\n      <td>0.1113</td>\n      <td>0.483229</td>\n      <td>0.174711</td>\n      <td>0.438863</td>\n      <td>0.483529</td>\n      <td>0.350000</td>\n      <td>0.5</td>\n      <td>0.5</td>\n      <td>2022.0</td>\n    </tr>\n    <tr>\n      <th>17770</th>\n      <td>0.0</td>\n      <td>0.354545</td>\n      <td>0.294118</td>\n      <td>0.389952</td>\n      <td>0.434483</td>\n      <td>0.459091</td>\n      <td>0.431710</td>\n      <td>0.406977</td>\n      <td>0.357143</td>\n      <td>0.754142</td>\n      <td>...</td>\n      <td>0.0572</td>\n      <td>0.1111</td>\n      <td>0.483229</td>\n      <td>0.172144</td>\n      <td>0.460190</td>\n      <td>0.472941</td>\n      <td>0.344231</td>\n      <td>0.5</td>\n      <td>0.5</td>\n      <td>2022.0</td>\n    </tr>\n    <tr>\n      <th>17771</th>\n      <td>0.0</td>\n      <td>0.484091</td>\n      <td>0.379412</td>\n      <td>0.482297</td>\n      <td>0.486207</td>\n      <td>0.507576</td>\n      <td>0.448812</td>\n      <td>0.316279</td>\n      <td>0.269841</td>\n      <td>0.801750</td>\n      <td>...</td>\n      <td>0.0656</td>\n      <td>0.1152</td>\n      <td>0.444025</td>\n      <td>0.308601</td>\n      <td>0.628910</td>\n      <td>0.568235</td>\n      <td>0.395192</td>\n      <td>0.5</td>\n      <td>0.7</td>\n      <td>2022.0</td>\n    </tr>\n  </tbody>\n</table>\n<p>17772 rows × 138 columns</p>\n</div>"
          },
          "metadata": {}
        }
      ],
      "execution_count": 31
    },
    {
      "cell_type": "code",
      "source": "rolling_cols = [f\"{col}_10\" for col in df_rolling.columns]\ndf_rolling.columns = rolling_cols\ndf = pd.concat([df, df_rolling], axis=1)",
      "metadata": {
        "trusted": true
      },
      "outputs": [],
      "execution_count": 32
    },
    {
      "cell_type": "code",
      "source": "df = df.dropna()",
      "metadata": {
        "trusted": true
      },
      "outputs": [],
      "execution_count": 33
    },
    {
      "cell_type": "code",
      "source": "df",
      "metadata": {
        "trusted": true
      },
      "outputs": [
        {
          "execution_count": 34,
          "output_type": "execute_result",
          "data": {
            "text/plain": "        mp        fg       fga       fg%        3p       3pa       3p%  \\\n243    0.0  0.522727  0.382353  0.523923  0.344828  0.333333  0.457245   \n251    0.0  0.659091  0.426471  0.645933  0.620690  0.515152  0.562945   \n252    0.0  0.386364  0.382353  0.358852  0.206897  0.181818  0.445368   \n253    0.0  0.500000  0.382353  0.497608  0.344828  0.318182  0.475059   \n256    0.0  0.318182  0.132353  0.500000  0.275862  0.272727  0.432304   \n...    ...       ...       ...       ...       ...       ...       ...   \n17767  0.0  0.340909  0.367647  0.313397  0.517241  0.515152  0.469121   \n17768  0.0  0.500000  0.411765  0.471292  0.310345  0.545455  0.267221   \n17769  0.0  0.272727  0.220588  0.344498  0.379310  0.424242  0.408551   \n17770  0.0  0.340909  0.294118  0.373206  0.379310  0.363636  0.466746   \n17771  0.0  0.431818  0.470588  0.344498  0.655172  0.636364  0.490499   \n\n             ft       fta       ft%  ...  stl%_max_opp_10  blk%_max_opp_10  \\\n243    0.255814  0.238095  0.708285  ...           0.0628           0.0679   \n251    0.325581  0.238095  0.927655  ...           0.0613           0.0772   \n252    0.511628  0.412698  0.827305  ...           0.0625           0.1145   \n253    0.325581  0.349206  0.593932  ...           0.0646           0.0759   \n256    0.581395  0.444444  0.879813  ...           0.0741           0.0982   \n...         ...       ...       ...  ...              ...              ...   \n17767  0.302326  0.285714  0.693116  ...           0.0570           0.1113   \n17768  0.279070  0.222222  0.844807  ...           0.0716           0.1171   \n17769  0.465116  0.476190  0.623104  ...           0.0591           0.1113   \n17770  0.232558  0.174603  0.903151  ...           0.0572           0.1111   \n17771  0.162791  0.111111  1.000000  ...           0.0656           0.1152   \n\n       tov%_max_opp_10  usg%_max_opp_10  ortg_max_opp_10  drtg_max_opp_10  \\\n243           0.413522         0.124134         0.361611         0.449412   \n251           0.469497         0.219641         0.394787         0.531765   \n252           0.437841         0.138126         0.507109         0.360000   \n253           0.512159         0.133633         0.277251         0.388235   \n256           0.313312         0.179974         0.500000         0.471765   \n...                ...              ...              ...              ...   \n17767         0.471908         0.170603         0.431754         0.522353   \n17768         0.374109         0.321566         0.642654         0.564706   \n17769         0.483229         0.174711         0.438863         0.483529   \n17770         0.483229         0.172144         0.460190         0.472941   \n17771         0.444025         0.308601         0.628910         0.568235   \n\n       total_opp_10  home_opp_10  won_10  season_10  \n243        0.347115          0.4     0.8     2016.0  \n251        0.324038          0.5     1.0     2016.0  \n252        0.351923          0.6     0.4     2016.0  \n253        0.308654          0.4     0.6     2016.0  \n256        0.380769          0.5     0.4     2016.0  \n...             ...          ...     ...        ...  \n17767      0.348077          0.5     0.6     2022.0  \n17768      0.392308          0.4     0.7     2022.0  \n17769      0.350000          0.5     0.5     2022.0  \n17770      0.344231          0.5     0.5     2022.0  \n17771      0.395192          0.5     0.7     2022.0  \n\n[15882 rows x 280 columns]",
            "text/html": "<div>\n<style scoped>\n    .dataframe tbody tr th:only-of-type {\n        vertical-align: middle;\n    }\n\n    .dataframe tbody tr th {\n        vertical-align: top;\n    }\n\n    .dataframe thead th {\n        text-align: right;\n    }\n</style>\n<table border=\"1\" class=\"dataframe\">\n  <thead>\n    <tr style=\"text-align: right;\">\n      <th></th>\n      <th>mp</th>\n      <th>fg</th>\n      <th>fga</th>\n      <th>fg%</th>\n      <th>3p</th>\n      <th>3pa</th>\n      <th>3p%</th>\n      <th>ft</th>\n      <th>fta</th>\n      <th>ft%</th>\n      <th>...</th>\n      <th>stl%_max_opp_10</th>\n      <th>blk%_max_opp_10</th>\n      <th>tov%_max_opp_10</th>\n      <th>usg%_max_opp_10</th>\n      <th>ortg_max_opp_10</th>\n      <th>drtg_max_opp_10</th>\n      <th>total_opp_10</th>\n      <th>home_opp_10</th>\n      <th>won_10</th>\n      <th>season_10</th>\n    </tr>\n  </thead>\n  <tbody>\n    <tr>\n      <th>243</th>\n      <td>0.0</td>\n      <td>0.522727</td>\n      <td>0.382353</td>\n      <td>0.523923</td>\n      <td>0.344828</td>\n      <td>0.333333</td>\n      <td>0.457245</td>\n      <td>0.255814</td>\n      <td>0.238095</td>\n      <td>0.708285</td>\n      <td>...</td>\n      <td>0.0628</td>\n      <td>0.0679</td>\n      <td>0.413522</td>\n      <td>0.124134</td>\n      <td>0.361611</td>\n      <td>0.449412</td>\n      <td>0.347115</td>\n      <td>0.4</td>\n      <td>0.8</td>\n      <td>2016.0</td>\n    </tr>\n    <tr>\n      <th>251</th>\n      <td>0.0</td>\n      <td>0.659091</td>\n      <td>0.426471</td>\n      <td>0.645933</td>\n      <td>0.620690</td>\n      <td>0.515152</td>\n      <td>0.562945</td>\n      <td>0.325581</td>\n      <td>0.238095</td>\n      <td>0.927655</td>\n      <td>...</td>\n      <td>0.0613</td>\n      <td>0.0772</td>\n      <td>0.469497</td>\n      <td>0.219641</td>\n      <td>0.394787</td>\n      <td>0.531765</td>\n      <td>0.324038</td>\n      <td>0.5</td>\n      <td>1.0</td>\n      <td>2016.0</td>\n    </tr>\n    <tr>\n      <th>252</th>\n      <td>0.0</td>\n      <td>0.386364</td>\n      <td>0.382353</td>\n      <td>0.358852</td>\n      <td>0.206897</td>\n      <td>0.181818</td>\n      <td>0.445368</td>\n      <td>0.511628</td>\n      <td>0.412698</td>\n      <td>0.827305</td>\n      <td>...</td>\n      <td>0.0625</td>\n      <td>0.1145</td>\n      <td>0.437841</td>\n      <td>0.138126</td>\n      <td>0.507109</td>\n      <td>0.360000</td>\n      <td>0.351923</td>\n      <td>0.6</td>\n      <td>0.4</td>\n      <td>2016.0</td>\n    </tr>\n    <tr>\n      <th>253</th>\n      <td>0.0</td>\n      <td>0.500000</td>\n      <td>0.382353</td>\n      <td>0.497608</td>\n      <td>0.344828</td>\n      <td>0.318182</td>\n      <td>0.475059</td>\n      <td>0.325581</td>\n      <td>0.349206</td>\n      <td>0.593932</td>\n      <td>...</td>\n      <td>0.0646</td>\n      <td>0.0759</td>\n      <td>0.512159</td>\n      <td>0.133633</td>\n      <td>0.277251</td>\n      <td>0.388235</td>\n      <td>0.308654</td>\n      <td>0.4</td>\n      <td>0.6</td>\n      <td>2016.0</td>\n    </tr>\n    <tr>\n      <th>256</th>\n      <td>0.0</td>\n      <td>0.318182</td>\n      <td>0.132353</td>\n      <td>0.500000</td>\n      <td>0.275862</td>\n      <td>0.272727</td>\n      <td>0.432304</td>\n      <td>0.581395</td>\n      <td>0.444444</td>\n      <td>0.879813</td>\n      <td>...</td>\n      <td>0.0741</td>\n      <td>0.0982</td>\n      <td>0.313312</td>\n      <td>0.179974</td>\n      <td>0.500000</td>\n      <td>0.471765</td>\n      <td>0.380769</td>\n      <td>0.5</td>\n      <td>0.4</td>\n      <td>2016.0</td>\n    </tr>\n    <tr>\n      <th>...</th>\n      <td>...</td>\n      <td>...</td>\n      <td>...</td>\n      <td>...</td>\n      <td>...</td>\n      <td>...</td>\n      <td>...</td>\n      <td>...</td>\n      <td>...</td>\n      <td>...</td>\n      <td>...</td>\n      <td>...</td>\n      <td>...</td>\n      <td>...</td>\n      <td>...</td>\n      <td>...</td>\n      <td>...</td>\n      <td>...</td>\n      <td>...</td>\n      <td>...</td>\n      <td>...</td>\n    </tr>\n    <tr>\n      <th>17767</th>\n      <td>0.0</td>\n      <td>0.340909</td>\n      <td>0.367647</td>\n      <td>0.313397</td>\n      <td>0.517241</td>\n      <td>0.515152</td>\n      <td>0.469121</td>\n      <td>0.302326</td>\n      <td>0.285714</td>\n      <td>0.693116</td>\n      <td>...</td>\n      <td>0.0570</td>\n      <td>0.1113</td>\n      <td>0.471908</td>\n      <td>0.170603</td>\n      <td>0.431754</td>\n      <td>0.522353</td>\n      <td>0.348077</td>\n      <td>0.5</td>\n      <td>0.6</td>\n      <td>2022.0</td>\n    </tr>\n    <tr>\n      <th>17768</th>\n      <td>0.0</td>\n      <td>0.500000</td>\n      <td>0.411765</td>\n      <td>0.471292</td>\n      <td>0.310345</td>\n      <td>0.545455</td>\n      <td>0.267221</td>\n      <td>0.279070</td>\n      <td>0.222222</td>\n      <td>0.844807</td>\n      <td>...</td>\n      <td>0.0716</td>\n      <td>0.1171</td>\n      <td>0.374109</td>\n      <td>0.321566</td>\n      <td>0.642654</td>\n      <td>0.564706</td>\n      <td>0.392308</td>\n      <td>0.4</td>\n      <td>0.7</td>\n      <td>2022.0</td>\n    </tr>\n    <tr>\n      <th>17769</th>\n      <td>0.0</td>\n      <td>0.272727</td>\n      <td>0.220588</td>\n      <td>0.344498</td>\n      <td>0.379310</td>\n      <td>0.424242</td>\n      <td>0.408551</td>\n      <td>0.465116</td>\n      <td>0.476190</td>\n      <td>0.623104</td>\n      <td>...</td>\n      <td>0.0591</td>\n      <td>0.1113</td>\n      <td>0.483229</td>\n      <td>0.174711</td>\n      <td>0.438863</td>\n      <td>0.483529</td>\n      <td>0.350000</td>\n      <td>0.5</td>\n      <td>0.5</td>\n      <td>2022.0</td>\n    </tr>\n    <tr>\n      <th>17770</th>\n      <td>0.0</td>\n      <td>0.340909</td>\n      <td>0.294118</td>\n      <td>0.373206</td>\n      <td>0.379310</td>\n      <td>0.363636</td>\n      <td>0.466746</td>\n      <td>0.232558</td>\n      <td>0.174603</td>\n      <td>0.903151</td>\n      <td>...</td>\n      <td>0.0572</td>\n      <td>0.1111</td>\n      <td>0.483229</td>\n      <td>0.172144</td>\n      <td>0.460190</td>\n      <td>0.472941</td>\n      <td>0.344231</td>\n      <td>0.5</td>\n      <td>0.5</td>\n      <td>2022.0</td>\n    </tr>\n    <tr>\n      <th>17771</th>\n      <td>0.0</td>\n      <td>0.431818</td>\n      <td>0.470588</td>\n      <td>0.344498</td>\n      <td>0.655172</td>\n      <td>0.636364</td>\n      <td>0.490499</td>\n      <td>0.162791</td>\n      <td>0.111111</td>\n      <td>1.000000</td>\n      <td>...</td>\n      <td>0.0656</td>\n      <td>0.1152</td>\n      <td>0.444025</td>\n      <td>0.308601</td>\n      <td>0.628910</td>\n      <td>0.568235</td>\n      <td>0.395192</td>\n      <td>0.5</td>\n      <td>0.7</td>\n      <td>2022.0</td>\n    </tr>\n  </tbody>\n</table>\n<p>15882 rows × 280 columns</p>\n</div>"
          },
          "metadata": {}
        }
      ],
      "execution_count": 34
    },
    {
      "cell_type": "code",
      "source": "def shift_col(team, col_name):\n    next_col = team[col_name].shift(-1)\n    return next_col\n\ndef add_col(df, col_name):\n    return df.groupby(\"team\", group_keys=False).apply(lambda x: shift_col(x, col_name))\n\ndf[\"home_next\"] = add_col(df, \"home\")\ndf[\"team_opp_next\"] = add_col(df, \"team_opp\")\ndf[\"date_next\"] = add_col(df, \"date\")",
      "metadata": {
        "trusted": true
      },
      "outputs": [],
      "execution_count": 35
    },
    {
      "cell_type": "code",
      "source": "df",
      "metadata": {
        "trusted": true
      },
      "outputs": [
        {
          "execution_count": 36,
          "output_type": "execute_result",
          "data": {
            "text/plain": "        mp        fg       fga       fg%        3p       3pa       3p%  \\\n243    0.0  0.522727  0.382353  0.523923  0.344828  0.333333  0.457245   \n251    0.0  0.659091  0.426471  0.645933  0.620690  0.515152  0.562945   \n252    0.0  0.386364  0.382353  0.358852  0.206897  0.181818  0.445368   \n253    0.0  0.500000  0.382353  0.497608  0.344828  0.318182  0.475059   \n256    0.0  0.318182  0.132353  0.500000  0.275862  0.272727  0.432304   \n...    ...       ...       ...       ...       ...       ...       ...   \n17767  0.0  0.340909  0.367647  0.313397  0.517241  0.515152  0.469121   \n17768  0.0  0.500000  0.411765  0.471292  0.310345  0.545455  0.267221   \n17769  0.0  0.272727  0.220588  0.344498  0.379310  0.424242  0.408551   \n17770  0.0  0.340909  0.294118  0.373206  0.379310  0.363636  0.466746   \n17771  0.0  0.431818  0.470588  0.344498  0.655172  0.636364  0.490499   \n\n             ft       fta       ft%  ...  usg%_max_opp_10  ortg_max_opp_10  \\\n243    0.255814  0.238095  0.708285  ...         0.124134         0.361611   \n251    0.325581  0.238095  0.927655  ...         0.219641         0.394787   \n252    0.511628  0.412698  0.827305  ...         0.138126         0.507109   \n253    0.325581  0.349206  0.593932  ...         0.133633         0.277251   \n256    0.581395  0.444444  0.879813  ...         0.179974         0.500000   \n...         ...       ...       ...  ...              ...              ...   \n17767  0.302326  0.285714  0.693116  ...         0.170603         0.431754   \n17768  0.279070  0.222222  0.844807  ...         0.321566         0.642654   \n17769  0.465116  0.476190  0.623104  ...         0.174711         0.438863   \n17770  0.232558  0.174603  0.903151  ...         0.172144         0.460190   \n17771  0.162791  0.111111  1.000000  ...         0.308601         0.628910   \n\n       drtg_max_opp_10  total_opp_10  home_opp_10  won_10  season_10  \\\n243           0.449412      0.347115          0.4     0.8     2016.0   \n251           0.531765      0.324038          0.5     1.0     2016.0   \n252           0.360000      0.351923          0.6     0.4     2016.0   \n253           0.388235      0.308654          0.4     0.6     2016.0   \n256           0.471765      0.380769          0.5     0.4     2016.0   \n...                ...           ...          ...     ...        ...   \n17767         0.522353      0.348077          0.5     0.6     2022.0   \n17768         0.564706      0.392308          0.4     0.7     2022.0   \n17769         0.483529      0.350000          0.5     0.5     2022.0   \n17770         0.472941      0.344231          0.5     0.5     2022.0   \n17771         0.568235      0.395192          0.5     0.7     2022.0   \n\n       home_next  team_opp_next   date_next  \n243          0.0            BOS  2015-11-13  \n251          1.0            BRK  2015-11-14  \n252          0.0            MIN  2015-11-15  \n253          0.0            CHI  2015-11-16  \n256          0.0            CHO  2015-11-15  \n...          ...            ...         ...  \n17767        0.0            GSW  2022-06-13  \n17768        0.0            BOS  2022-06-16  \n17769        1.0            GSW  2022-06-16  \n17770        NaN           None        None  \n17771        NaN           None        None  \n\n[15882 rows x 283 columns]",
            "text/html": "<div>\n<style scoped>\n    .dataframe tbody tr th:only-of-type {\n        vertical-align: middle;\n    }\n\n    .dataframe tbody tr th {\n        vertical-align: top;\n    }\n\n    .dataframe thead th {\n        text-align: right;\n    }\n</style>\n<table border=\"1\" class=\"dataframe\">\n  <thead>\n    <tr style=\"text-align: right;\">\n      <th></th>\n      <th>mp</th>\n      <th>fg</th>\n      <th>fga</th>\n      <th>fg%</th>\n      <th>3p</th>\n      <th>3pa</th>\n      <th>3p%</th>\n      <th>ft</th>\n      <th>fta</th>\n      <th>ft%</th>\n      <th>...</th>\n      <th>usg%_max_opp_10</th>\n      <th>ortg_max_opp_10</th>\n      <th>drtg_max_opp_10</th>\n      <th>total_opp_10</th>\n      <th>home_opp_10</th>\n      <th>won_10</th>\n      <th>season_10</th>\n      <th>home_next</th>\n      <th>team_opp_next</th>\n      <th>date_next</th>\n    </tr>\n  </thead>\n  <tbody>\n    <tr>\n      <th>243</th>\n      <td>0.0</td>\n      <td>0.522727</td>\n      <td>0.382353</td>\n      <td>0.523923</td>\n      <td>0.344828</td>\n      <td>0.333333</td>\n      <td>0.457245</td>\n      <td>0.255814</td>\n      <td>0.238095</td>\n      <td>0.708285</td>\n      <td>...</td>\n      <td>0.124134</td>\n      <td>0.361611</td>\n      <td>0.449412</td>\n      <td>0.347115</td>\n      <td>0.4</td>\n      <td>0.8</td>\n      <td>2016.0</td>\n      <td>0.0</td>\n      <td>BOS</td>\n      <td>2015-11-13</td>\n    </tr>\n    <tr>\n      <th>251</th>\n      <td>0.0</td>\n      <td>0.659091</td>\n      <td>0.426471</td>\n      <td>0.645933</td>\n      <td>0.620690</td>\n      <td>0.515152</td>\n      <td>0.562945</td>\n      <td>0.325581</td>\n      <td>0.238095</td>\n      <td>0.927655</td>\n      <td>...</td>\n      <td>0.219641</td>\n      <td>0.394787</td>\n      <td>0.531765</td>\n      <td>0.324038</td>\n      <td>0.5</td>\n      <td>1.0</td>\n      <td>2016.0</td>\n      <td>1.0</td>\n      <td>BRK</td>\n      <td>2015-11-14</td>\n    </tr>\n    <tr>\n      <th>252</th>\n      <td>0.0</td>\n      <td>0.386364</td>\n      <td>0.382353</td>\n      <td>0.358852</td>\n      <td>0.206897</td>\n      <td>0.181818</td>\n      <td>0.445368</td>\n      <td>0.511628</td>\n      <td>0.412698</td>\n      <td>0.827305</td>\n      <td>...</td>\n      <td>0.138126</td>\n      <td>0.507109</td>\n      <td>0.360000</td>\n      <td>0.351923</td>\n      <td>0.6</td>\n      <td>0.4</td>\n      <td>2016.0</td>\n      <td>0.0</td>\n      <td>MIN</td>\n      <td>2015-11-15</td>\n    </tr>\n    <tr>\n      <th>253</th>\n      <td>0.0</td>\n      <td>0.500000</td>\n      <td>0.382353</td>\n      <td>0.497608</td>\n      <td>0.344828</td>\n      <td>0.318182</td>\n      <td>0.475059</td>\n      <td>0.325581</td>\n      <td>0.349206</td>\n      <td>0.593932</td>\n      <td>...</td>\n      <td>0.133633</td>\n      <td>0.277251</td>\n      <td>0.388235</td>\n      <td>0.308654</td>\n      <td>0.4</td>\n      <td>0.6</td>\n      <td>2016.0</td>\n      <td>0.0</td>\n      <td>CHI</td>\n      <td>2015-11-16</td>\n    </tr>\n    <tr>\n      <th>256</th>\n      <td>0.0</td>\n      <td>0.318182</td>\n      <td>0.132353</td>\n      <td>0.500000</td>\n      <td>0.275862</td>\n      <td>0.272727</td>\n      <td>0.432304</td>\n      <td>0.581395</td>\n      <td>0.444444</td>\n      <td>0.879813</td>\n      <td>...</td>\n      <td>0.179974</td>\n      <td>0.500000</td>\n      <td>0.471765</td>\n      <td>0.380769</td>\n      <td>0.5</td>\n      <td>0.4</td>\n      <td>2016.0</td>\n      <td>0.0</td>\n      <td>CHO</td>\n      <td>2015-11-15</td>\n    </tr>\n    <tr>\n      <th>...</th>\n      <td>...</td>\n      <td>...</td>\n      <td>...</td>\n      <td>...</td>\n      <td>...</td>\n      <td>...</td>\n      <td>...</td>\n      <td>...</td>\n      <td>...</td>\n      <td>...</td>\n      <td>...</td>\n      <td>...</td>\n      <td>...</td>\n      <td>...</td>\n      <td>...</td>\n      <td>...</td>\n      <td>...</td>\n      <td>...</td>\n      <td>...</td>\n      <td>...</td>\n      <td>...</td>\n    </tr>\n    <tr>\n      <th>17767</th>\n      <td>0.0</td>\n      <td>0.340909</td>\n      <td>0.367647</td>\n      <td>0.313397</td>\n      <td>0.517241</td>\n      <td>0.515152</td>\n      <td>0.469121</td>\n      <td>0.302326</td>\n      <td>0.285714</td>\n      <td>0.693116</td>\n      <td>...</td>\n      <td>0.170603</td>\n      <td>0.431754</td>\n      <td>0.522353</td>\n      <td>0.348077</td>\n      <td>0.5</td>\n      <td>0.6</td>\n      <td>2022.0</td>\n      <td>0.0</td>\n      <td>GSW</td>\n      <td>2022-06-13</td>\n    </tr>\n    <tr>\n      <th>17768</th>\n      <td>0.0</td>\n      <td>0.500000</td>\n      <td>0.411765</td>\n      <td>0.471292</td>\n      <td>0.310345</td>\n      <td>0.545455</td>\n      <td>0.267221</td>\n      <td>0.279070</td>\n      <td>0.222222</td>\n      <td>0.844807</td>\n      <td>...</td>\n      <td>0.321566</td>\n      <td>0.642654</td>\n      <td>0.564706</td>\n      <td>0.392308</td>\n      <td>0.4</td>\n      <td>0.7</td>\n      <td>2022.0</td>\n      <td>0.0</td>\n      <td>BOS</td>\n      <td>2022-06-16</td>\n    </tr>\n    <tr>\n      <th>17769</th>\n      <td>0.0</td>\n      <td>0.272727</td>\n      <td>0.220588</td>\n      <td>0.344498</td>\n      <td>0.379310</td>\n      <td>0.424242</td>\n      <td>0.408551</td>\n      <td>0.465116</td>\n      <td>0.476190</td>\n      <td>0.623104</td>\n      <td>...</td>\n      <td>0.174711</td>\n      <td>0.438863</td>\n      <td>0.483529</td>\n      <td>0.350000</td>\n      <td>0.5</td>\n      <td>0.5</td>\n      <td>2022.0</td>\n      <td>1.0</td>\n      <td>GSW</td>\n      <td>2022-06-16</td>\n    </tr>\n    <tr>\n      <th>17770</th>\n      <td>0.0</td>\n      <td>0.340909</td>\n      <td>0.294118</td>\n      <td>0.373206</td>\n      <td>0.379310</td>\n      <td>0.363636</td>\n      <td>0.466746</td>\n      <td>0.232558</td>\n      <td>0.174603</td>\n      <td>0.903151</td>\n      <td>...</td>\n      <td>0.172144</td>\n      <td>0.460190</td>\n      <td>0.472941</td>\n      <td>0.344231</td>\n      <td>0.5</td>\n      <td>0.5</td>\n      <td>2022.0</td>\n      <td>NaN</td>\n      <td>None</td>\n      <td>None</td>\n    </tr>\n    <tr>\n      <th>17771</th>\n      <td>0.0</td>\n      <td>0.431818</td>\n      <td>0.470588</td>\n      <td>0.344498</td>\n      <td>0.655172</td>\n      <td>0.636364</td>\n      <td>0.490499</td>\n      <td>0.162791</td>\n      <td>0.111111</td>\n      <td>1.000000</td>\n      <td>...</td>\n      <td>0.308601</td>\n      <td>0.628910</td>\n      <td>0.568235</td>\n      <td>0.395192</td>\n      <td>0.5</td>\n      <td>0.7</td>\n      <td>2022.0</td>\n      <td>NaN</td>\n      <td>None</td>\n      <td>None</td>\n    </tr>\n  </tbody>\n</table>\n<p>15882 rows × 283 columns</p>\n</div>"
          },
          "metadata": {}
        }
      ],
      "execution_count": 36
    },
    {
      "cell_type": "code",
      "source": "full = df.merge(df[rolling_cols + [\"team_opp_next\", \"date_next\", \"team\"]], left_on=[\"team\", \"date_next\"], right_on=[\"team_opp_next\", \"date_next\"])",
      "metadata": {
        "trusted": true
      },
      "outputs": [],
      "execution_count": 37
    },
    {
      "cell_type": "code",
      "source": "full",
      "metadata": {
        "trusted": true
      },
      "outputs": [
        {
          "execution_count": 38,
          "output_type": "execute_result",
          "data": {
            "text/plain": "         mp        fg       fga       fg%        3p       3pa       3p%  \\\n0      0.00  0.477273  0.500000  0.375598  0.379310  0.348485  0.483373   \n1      0.00  0.340909  0.250000  0.413876  0.310345  0.257576  0.509501   \n2      0.50  0.409091  0.455882  0.330144  0.482759  0.515152  0.437055   \n3      0.25  0.545455  0.544118  0.416268  0.413793  0.454545  0.419240   \n4      0.00  0.340909  0.558824  0.186603  0.206897  0.469697  0.203088   \n...     ...       ...       ...       ...       ...       ...       ...   \n15769  0.00  0.545455  0.426471  0.511962  0.448276  0.469697  0.440618   \n15770  0.00  0.477273  0.455882  0.409091  0.517241  0.590909  0.414489   \n15771  0.00  0.340909  0.367647  0.313397  0.517241  0.515152  0.469121   \n15772  0.00  0.500000  0.411765  0.471292  0.310345  0.545455  0.267221   \n15773  0.00  0.272727  0.220588  0.344498  0.379310  0.424242  0.408551   \n\n             ft       fta       ft%  ...  tov%_max_opp_10_y  \\\n0      0.441860  0.396825  0.730455  ...           0.380294   \n1      0.511628  0.412698  0.827305  ...           0.437212   \n2      0.372093  0.412698  0.568261  ...           0.504403   \n3      0.186047  0.142857  0.883314  ...           0.467505   \n4      0.139535  0.111111  0.854142  ...           0.413732   \n...         ...       ...       ...  ...                ...   \n15769  0.372093  0.365079  0.659277  ...           0.457128   \n15770  0.255814  0.222222  0.766628  ...           0.471908   \n15771  0.302326  0.285714  0.693116  ...           0.431761   \n15772  0.279070  0.222222  0.844807  ...           0.483229   \n15773  0.465116  0.476190  0.623104  ...           0.374109   \n\n       usg%_max_opp_10_y  ortg_max_opp_10_y  drtg_max_opp_10_y  \\\n0               0.273427           0.270616           0.478824   \n1               0.124904           0.404739           0.408235   \n2               0.153273           0.344076           0.384706   \n3               0.276508           0.352607           0.482353   \n4               0.156739           0.470142           0.391765   \n...                  ...                ...                ...   \n15769           0.235173           0.562085           0.552941   \n15770           0.170603           0.431754           0.522353   \n15771           0.242875           0.567773           0.575294   \n15772           0.174711           0.438863           0.483529   \n15773           0.321566           0.642654           0.564706   \n\n       total_opp_10_y  home_opp_10_y  won_10_y  season_10_y  team_opp_next_y  \\\n0            0.308654            0.6       0.7       2016.0              SAC   \n1            0.428846            0.2       0.3       2016.0              TOR   \n2            0.319231            0.7       0.5       2016.0              CLE   \n3            0.316346            0.7       0.6       2016.0              GSW   \n4            0.436538            0.6       0.1       2016.0              DEN   \n...               ...            ...       ...          ...              ...   \n15769        0.429808            0.4       0.6       2022.0              BOS   \n15770        0.348077            0.5       0.6       2022.0              GSW   \n15771        0.394231            0.4       0.7       2022.0              BOS   \n15772        0.350000            0.5       0.5       2022.0              GSW   \n15773        0.392308            0.4       0.7       2022.0              BOS   \n\n       team_y  \n0         TOR  \n1         SAC  \n2         DET  \n3         TOR  \n4         NOP  \n...       ...  \n15769     GSW  \n15770     BOS  \n15771     GSW  \n15772     BOS  \n15773     GSW  \n\n[15774 rows x 423 columns]",
            "text/html": "<div>\n<style scoped>\n    .dataframe tbody tr th:only-of-type {\n        vertical-align: middle;\n    }\n\n    .dataframe tbody tr th {\n        vertical-align: top;\n    }\n\n    .dataframe thead th {\n        text-align: right;\n    }\n</style>\n<table border=\"1\" class=\"dataframe\">\n  <thead>\n    <tr style=\"text-align: right;\">\n      <th></th>\n      <th>mp</th>\n      <th>fg</th>\n      <th>fga</th>\n      <th>fg%</th>\n      <th>3p</th>\n      <th>3pa</th>\n      <th>3p%</th>\n      <th>ft</th>\n      <th>fta</th>\n      <th>ft%</th>\n      <th>...</th>\n      <th>tov%_max_opp_10_y</th>\n      <th>usg%_max_opp_10_y</th>\n      <th>ortg_max_opp_10_y</th>\n      <th>drtg_max_opp_10_y</th>\n      <th>total_opp_10_y</th>\n      <th>home_opp_10_y</th>\n      <th>won_10_y</th>\n      <th>season_10_y</th>\n      <th>team_opp_next_y</th>\n      <th>team_y</th>\n    </tr>\n  </thead>\n  <tbody>\n    <tr>\n      <th>0</th>\n      <td>0.00</td>\n      <td>0.477273</td>\n      <td>0.500000</td>\n      <td>0.375598</td>\n      <td>0.379310</td>\n      <td>0.348485</td>\n      <td>0.483373</td>\n      <td>0.441860</td>\n      <td>0.396825</td>\n      <td>0.730455</td>\n      <td>...</td>\n      <td>0.380294</td>\n      <td>0.273427</td>\n      <td>0.270616</td>\n      <td>0.478824</td>\n      <td>0.308654</td>\n      <td>0.6</td>\n      <td>0.7</td>\n      <td>2016.0</td>\n      <td>SAC</td>\n      <td>TOR</td>\n    </tr>\n    <tr>\n      <th>1</th>\n      <td>0.00</td>\n      <td>0.340909</td>\n      <td>0.250000</td>\n      <td>0.413876</td>\n      <td>0.310345</td>\n      <td>0.257576</td>\n      <td>0.509501</td>\n      <td>0.511628</td>\n      <td>0.412698</td>\n      <td>0.827305</td>\n      <td>...</td>\n      <td>0.437212</td>\n      <td>0.124904</td>\n      <td>0.404739</td>\n      <td>0.408235</td>\n      <td>0.428846</td>\n      <td>0.2</td>\n      <td>0.3</td>\n      <td>2016.0</td>\n      <td>TOR</td>\n      <td>SAC</td>\n    </tr>\n    <tr>\n      <th>2</th>\n      <td>0.50</td>\n      <td>0.409091</td>\n      <td>0.455882</td>\n      <td>0.330144</td>\n      <td>0.482759</td>\n      <td>0.515152</td>\n      <td>0.437055</td>\n      <td>0.372093</td>\n      <td>0.412698</td>\n      <td>0.568261</td>\n      <td>...</td>\n      <td>0.504403</td>\n      <td>0.153273</td>\n      <td>0.344076</td>\n      <td>0.384706</td>\n      <td>0.319231</td>\n      <td>0.7</td>\n      <td>0.5</td>\n      <td>2016.0</td>\n      <td>CLE</td>\n      <td>DET</td>\n    </tr>\n    <tr>\n      <th>3</th>\n      <td>0.25</td>\n      <td>0.545455</td>\n      <td>0.544118</td>\n      <td>0.416268</td>\n      <td>0.413793</td>\n      <td>0.454545</td>\n      <td>0.419240</td>\n      <td>0.186047</td>\n      <td>0.142857</td>\n      <td>0.883314</td>\n      <td>...</td>\n      <td>0.467505</td>\n      <td>0.276508</td>\n      <td>0.352607</td>\n      <td>0.482353</td>\n      <td>0.316346</td>\n      <td>0.7</td>\n      <td>0.6</td>\n      <td>2016.0</td>\n      <td>GSW</td>\n      <td>TOR</td>\n    </tr>\n    <tr>\n      <th>4</th>\n      <td>0.00</td>\n      <td>0.340909</td>\n      <td>0.558824</td>\n      <td>0.186603</td>\n      <td>0.206897</td>\n      <td>0.469697</td>\n      <td>0.203088</td>\n      <td>0.139535</td>\n      <td>0.111111</td>\n      <td>0.854142</td>\n      <td>...</td>\n      <td>0.413732</td>\n      <td>0.156739</td>\n      <td>0.470142</td>\n      <td>0.391765</td>\n      <td>0.436538</td>\n      <td>0.6</td>\n      <td>0.1</td>\n      <td>2016.0</td>\n      <td>DEN</td>\n      <td>NOP</td>\n    </tr>\n    <tr>\n      <th>...</th>\n      <td>...</td>\n      <td>...</td>\n      <td>...</td>\n      <td>...</td>\n      <td>...</td>\n      <td>...</td>\n      <td>...</td>\n      <td>...</td>\n      <td>...</td>\n      <td>...</td>\n      <td>...</td>\n      <td>...</td>\n      <td>...</td>\n      <td>...</td>\n      <td>...</td>\n      <td>...</td>\n      <td>...</td>\n      <td>...</td>\n      <td>...</td>\n      <td>...</td>\n      <td>...</td>\n    </tr>\n    <tr>\n      <th>15769</th>\n      <td>0.00</td>\n      <td>0.545455</td>\n      <td>0.426471</td>\n      <td>0.511962</td>\n      <td>0.448276</td>\n      <td>0.469697</td>\n      <td>0.440618</td>\n      <td>0.372093</td>\n      <td>0.365079</td>\n      <td>0.659277</td>\n      <td>...</td>\n      <td>0.457128</td>\n      <td>0.235173</td>\n      <td>0.562085</td>\n      <td>0.552941</td>\n      <td>0.429808</td>\n      <td>0.4</td>\n      <td>0.6</td>\n      <td>2022.0</td>\n      <td>BOS</td>\n      <td>GSW</td>\n    </tr>\n    <tr>\n      <th>15770</th>\n      <td>0.00</td>\n      <td>0.477273</td>\n      <td>0.455882</td>\n      <td>0.409091</td>\n      <td>0.517241</td>\n      <td>0.590909</td>\n      <td>0.414489</td>\n      <td>0.255814</td>\n      <td>0.222222</td>\n      <td>0.766628</td>\n      <td>...</td>\n      <td>0.471908</td>\n      <td>0.170603</td>\n      <td>0.431754</td>\n      <td>0.522353</td>\n      <td>0.348077</td>\n      <td>0.5</td>\n      <td>0.6</td>\n      <td>2022.0</td>\n      <td>GSW</td>\n      <td>BOS</td>\n    </tr>\n    <tr>\n      <th>15771</th>\n      <td>0.00</td>\n      <td>0.340909</td>\n      <td>0.367647</td>\n      <td>0.313397</td>\n      <td>0.517241</td>\n      <td>0.515152</td>\n      <td>0.469121</td>\n      <td>0.302326</td>\n      <td>0.285714</td>\n      <td>0.693116</td>\n      <td>...</td>\n      <td>0.431761</td>\n      <td>0.242875</td>\n      <td>0.567773</td>\n      <td>0.575294</td>\n      <td>0.394231</td>\n      <td>0.4</td>\n      <td>0.7</td>\n      <td>2022.0</td>\n      <td>BOS</td>\n      <td>GSW</td>\n    </tr>\n    <tr>\n      <th>15772</th>\n      <td>0.00</td>\n      <td>0.500000</td>\n      <td>0.411765</td>\n      <td>0.471292</td>\n      <td>0.310345</td>\n      <td>0.545455</td>\n      <td>0.267221</td>\n      <td>0.279070</td>\n      <td>0.222222</td>\n      <td>0.844807</td>\n      <td>...</td>\n      <td>0.483229</td>\n      <td>0.174711</td>\n      <td>0.438863</td>\n      <td>0.483529</td>\n      <td>0.350000</td>\n      <td>0.5</td>\n      <td>0.5</td>\n      <td>2022.0</td>\n      <td>GSW</td>\n      <td>BOS</td>\n    </tr>\n    <tr>\n      <th>15773</th>\n      <td>0.00</td>\n      <td>0.272727</td>\n      <td>0.220588</td>\n      <td>0.344498</td>\n      <td>0.379310</td>\n      <td>0.424242</td>\n      <td>0.408551</td>\n      <td>0.465116</td>\n      <td>0.476190</td>\n      <td>0.623104</td>\n      <td>...</td>\n      <td>0.374109</td>\n      <td>0.321566</td>\n      <td>0.642654</td>\n      <td>0.564706</td>\n      <td>0.392308</td>\n      <td>0.4</td>\n      <td>0.7</td>\n      <td>2022.0</td>\n      <td>BOS</td>\n      <td>GSW</td>\n    </tr>\n  </tbody>\n</table>\n<p>15774 rows × 423 columns</p>\n</div>"
          },
          "metadata": {}
        }
      ],
      "execution_count": 38
    },
    {
      "cell_type": "code",
      "source": "full[[\"team_x\", \"team_opp_next_x\", \"team_y\", \"team_opp_next_y\", \"date_next\"]]",
      "metadata": {
        "trusted": true
      },
      "outputs": [
        {
          "execution_count": 39,
          "output_type": "execute_result",
          "data": {
            "text/plain": "      team_x team_opp_next_x team_y team_opp_next_y   date_next\n0        SAC             TOR    TOR             SAC  2015-11-15\n1        TOR             SAC    SAC             TOR  2015-11-15\n2        CLE             DET    DET             CLE  2015-11-17\n3        GSW             TOR    TOR             GSW  2015-11-17\n4        DEN             NOP    NOP             DEN  2015-11-17\n...      ...             ...    ...             ...         ...\n15769    BOS             GSW    GSW             BOS  2022-06-10\n15770    GSW             BOS    BOS             GSW  2022-06-13\n15771    BOS             GSW    GSW             BOS  2022-06-13\n15772    GSW             BOS    BOS             GSW  2022-06-16\n15773    BOS             GSW    GSW             BOS  2022-06-16\n\n[15774 rows x 5 columns]",
            "text/html": "<div>\n<style scoped>\n    .dataframe tbody tr th:only-of-type {\n        vertical-align: middle;\n    }\n\n    .dataframe tbody tr th {\n        vertical-align: top;\n    }\n\n    .dataframe thead th {\n        text-align: right;\n    }\n</style>\n<table border=\"1\" class=\"dataframe\">\n  <thead>\n    <tr style=\"text-align: right;\">\n      <th></th>\n      <th>team_x</th>\n      <th>team_opp_next_x</th>\n      <th>team_y</th>\n      <th>team_opp_next_y</th>\n      <th>date_next</th>\n    </tr>\n  </thead>\n  <tbody>\n    <tr>\n      <th>0</th>\n      <td>SAC</td>\n      <td>TOR</td>\n      <td>TOR</td>\n      <td>SAC</td>\n      <td>2015-11-15</td>\n    </tr>\n    <tr>\n      <th>1</th>\n      <td>TOR</td>\n      <td>SAC</td>\n      <td>SAC</td>\n      <td>TOR</td>\n      <td>2015-11-15</td>\n    </tr>\n    <tr>\n      <th>2</th>\n      <td>CLE</td>\n      <td>DET</td>\n      <td>DET</td>\n      <td>CLE</td>\n      <td>2015-11-17</td>\n    </tr>\n    <tr>\n      <th>3</th>\n      <td>GSW</td>\n      <td>TOR</td>\n      <td>TOR</td>\n      <td>GSW</td>\n      <td>2015-11-17</td>\n    </tr>\n    <tr>\n      <th>4</th>\n      <td>DEN</td>\n      <td>NOP</td>\n      <td>NOP</td>\n      <td>DEN</td>\n      <td>2015-11-17</td>\n    </tr>\n    <tr>\n      <th>...</th>\n      <td>...</td>\n      <td>...</td>\n      <td>...</td>\n      <td>...</td>\n      <td>...</td>\n    </tr>\n    <tr>\n      <th>15769</th>\n      <td>BOS</td>\n      <td>GSW</td>\n      <td>GSW</td>\n      <td>BOS</td>\n      <td>2022-06-10</td>\n    </tr>\n    <tr>\n      <th>15770</th>\n      <td>GSW</td>\n      <td>BOS</td>\n      <td>BOS</td>\n      <td>GSW</td>\n      <td>2022-06-13</td>\n    </tr>\n    <tr>\n      <th>15771</th>\n      <td>BOS</td>\n      <td>GSW</td>\n      <td>GSW</td>\n      <td>BOS</td>\n      <td>2022-06-13</td>\n    </tr>\n    <tr>\n      <th>15772</th>\n      <td>GSW</td>\n      <td>BOS</td>\n      <td>BOS</td>\n      <td>GSW</td>\n      <td>2022-06-16</td>\n    </tr>\n    <tr>\n      <th>15773</th>\n      <td>BOS</td>\n      <td>GSW</td>\n      <td>GSW</td>\n      <td>BOS</td>\n      <td>2022-06-16</td>\n    </tr>\n  </tbody>\n</table>\n<p>15774 rows × 5 columns</p>\n</div>"
          },
          "metadata": {}
        }
      ],
      "execution_count": 39
    },
    {
      "cell_type": "code",
      "source": "removed_columns = list(full.columns[full.dtypes == \"object\"]) + removed_columns",
      "metadata": {
        "trusted": true
      },
      "outputs": [],
      "execution_count": 43
    },
    {
      "cell_type": "code",
      "source": "removed_columns",
      "metadata": {
        "trusted": true
      },
      "outputs": [
        {
          "execution_count": 44,
          "output_type": "execute_result",
          "data": {
            "text/plain": "['team_x',\n 'team_opp',\n 'date',\n 'team_opp_next_x',\n 'date_next',\n 'team_opp_next_y',\n 'team_y',\n 'season',\n 'date',\n 'won',\n 'target',\n 'team',\n 'team_opp']"
          },
          "metadata": {}
        }
      ],
      "execution_count": 44
    },
    {
      "cell_type": "code",
      "source": "selected_columns = full.columns[~full.columns.isin(removed_columns)]",
      "metadata": {
        "trusted": true
      },
      "outputs": [],
      "execution_count": 45
    },
    {
      "cell_type": "code",
      "source": "sfs.fit(full[selected_columns], full[\"target\"])",
      "metadata": {
        "trusted": true
      },
      "outputs": [
        {
          "execution_count": 46,
          "output_type": "execute_result",
          "data": {
            "text/plain": "SequentialFeatureSelector(cv=TimeSeriesSplit(gap=0, max_train_size=None, n_splits=3, test_size=None),\n                          estimator=RidgeClassifier(alpha=1),\n                          n_features_to_select=30, n_jobs=1)",
            "text/html": "<style>#sk-container-id-2 {color: black;}#sk-container-id-2 pre{padding: 0;}#sk-container-id-2 div.sk-toggleable {background-color: white;}#sk-container-id-2 label.sk-toggleable__label {cursor: pointer;display: block;width: 100%;margin-bottom: 0;padding: 0.3em;box-sizing: border-box;text-align: center;}#sk-container-id-2 label.sk-toggleable__label-arrow:before {content: \"▸\";float: left;margin-right: 0.25em;color: #696969;}#sk-container-id-2 label.sk-toggleable__label-arrow:hover:before {color: black;}#sk-container-id-2 div.sk-estimator:hover label.sk-toggleable__label-arrow:before {color: black;}#sk-container-id-2 div.sk-toggleable__content {max-height: 0;max-width: 0;overflow: hidden;text-align: left;background-color: #f0f8ff;}#sk-container-id-2 div.sk-toggleable__content pre {margin: 0.2em;color: black;border-radius: 0.25em;background-color: #f0f8ff;}#sk-container-id-2 input.sk-toggleable__control:checked~div.sk-toggleable__content {max-height: 200px;max-width: 100%;overflow: auto;}#sk-container-id-2 input.sk-toggleable__control:checked~label.sk-toggleable__label-arrow:before {content: \"▾\";}#sk-container-id-2 div.sk-estimator input.sk-toggleable__control:checked~label.sk-toggleable__label {background-color: #d4ebff;}#sk-container-id-2 div.sk-label input.sk-toggleable__control:checked~label.sk-toggleable__label {background-color: #d4ebff;}#sk-container-id-2 input.sk-hidden--visually {border: 0;clip: rect(1px 1px 1px 1px);clip: rect(1px, 1px, 1px, 1px);height: 1px;margin: -1px;overflow: hidden;padding: 0;position: absolute;width: 1px;}#sk-container-id-2 div.sk-estimator {font-family: monospace;background-color: #f0f8ff;border: 1px dotted black;border-radius: 0.25em;box-sizing: border-box;margin-bottom: 0.5em;}#sk-container-id-2 div.sk-estimator:hover {background-color: #d4ebff;}#sk-container-id-2 div.sk-parallel-item::after {content: \"\";width: 100%;border-bottom: 1px solid gray;flex-grow: 1;}#sk-container-id-2 div.sk-label:hover label.sk-toggleable__label {background-color: #d4ebff;}#sk-container-id-2 div.sk-serial::before {content: \"\";position: absolute;border-left: 1px solid gray;box-sizing: border-box;top: 0;bottom: 0;left: 50%;z-index: 0;}#sk-container-id-2 div.sk-serial {display: flex;flex-direction: column;align-items: center;background-color: white;padding-right: 0.2em;padding-left: 0.2em;position: relative;}#sk-container-id-2 div.sk-item {position: relative;z-index: 1;}#sk-container-id-2 div.sk-parallel {display: flex;align-items: stretch;justify-content: center;background-color: white;position: relative;}#sk-container-id-2 div.sk-item::before, #sk-container-id-2 div.sk-parallel-item::before {content: \"\";position: absolute;border-left: 1px solid gray;box-sizing: border-box;top: 0;bottom: 0;left: 50%;z-index: -1;}#sk-container-id-2 div.sk-parallel-item {display: flex;flex-direction: column;z-index: 1;position: relative;background-color: white;}#sk-container-id-2 div.sk-parallel-item:first-child::after {align-self: flex-end;width: 50%;}#sk-container-id-2 div.sk-parallel-item:last-child::after {align-self: flex-start;width: 50%;}#sk-container-id-2 div.sk-parallel-item:only-child::after {width: 0;}#sk-container-id-2 div.sk-dashed-wrapped {border: 1px dashed gray;margin: 0 0.4em 0.5em 0.4em;box-sizing: border-box;padding-bottom: 0.4em;background-color: white;}#sk-container-id-2 div.sk-label label {font-family: monospace;font-weight: bold;display: inline-block;line-height: 1.2em;}#sk-container-id-2 div.sk-label-container {text-align: center;}#sk-container-id-2 div.sk-container {/* jupyter's `normalize.less` sets `[hidden] { display: none; }` but bootstrap.min.css set `[hidden] { display: none !important; }` so we also need the `!important` here to be able to override the default hidden behavior on the sphinx rendered scikit-learn.org. See: https://github.com/scikit-learn/scikit-learn/issues/21755 */display: inline-block !important;position: relative;}#sk-container-id-2 div.sk-text-repr-fallback {display: none;}</style><div id=\"sk-container-id-2\" class=\"sk-top-container\"><div class=\"sk-text-repr-fallback\"><pre>SequentialFeatureSelector(cv=TimeSeriesSplit(gap=0, max_train_size=None, n_splits=3, test_size=None),\n                          estimator=RidgeClassifier(alpha=1),\n                          n_features_to_select=30, n_jobs=1)</pre><b>In a Jupyter environment, please rerun this cell to show the HTML representation or trust the notebook. <br />On GitHub, the HTML representation is unable to render, please try loading this page with nbviewer.org.</b></div><div class=\"sk-container\" hidden><div class=\"sk-item sk-dashed-wrapped\"><div class=\"sk-label-container\"><div class=\"sk-label sk-toggleable\"><input class=\"sk-toggleable__control sk-hidden--visually\" id=\"sk-estimator-id-4\" type=\"checkbox\" ><label for=\"sk-estimator-id-4\" class=\"sk-toggleable__label sk-toggleable__label-arrow\">SequentialFeatureSelector</label><div class=\"sk-toggleable__content\"><pre>SequentialFeatureSelector(cv=TimeSeriesSplit(gap=0, max_train_size=None, n_splits=3, test_size=None),\n                          estimator=RidgeClassifier(alpha=1),\n                          n_features_to_select=30, n_jobs=1)</pre></div></div></div><div class=\"sk-parallel\"><div class=\"sk-parallel-item\"><div class=\"sk-item\"><div class=\"sk-label-container\"><div class=\"sk-label sk-toggleable\"><input class=\"sk-toggleable__control sk-hidden--visually\" id=\"sk-estimator-id-5\" type=\"checkbox\" ><label for=\"sk-estimator-id-5\" class=\"sk-toggleable__label sk-toggleable__label-arrow\">estimator: RidgeClassifier</label><div class=\"sk-toggleable__content\"><pre>RidgeClassifier(alpha=1)</pre></div></div></div><div class=\"sk-serial\"><div class=\"sk-item\"><div class=\"sk-estimator sk-toggleable\"><input class=\"sk-toggleable__control sk-hidden--visually\" id=\"sk-estimator-id-6\" type=\"checkbox\" ><label for=\"sk-estimator-id-6\" class=\"sk-toggleable__label sk-toggleable__label-arrow\">RidgeClassifier</label><div class=\"sk-toggleable__content\"><pre>RidgeClassifier(alpha=1)</pre></div></div></div></div></div></div></div></div></div></div>"
          },
          "metadata": {}
        }
      ],
      "execution_count": 46
    },
    {
      "cell_type": "code",
      "source": "predictors = list(selected_columns[sfs.get_support()])",
      "metadata": {
        "trusted": true
      },
      "outputs": [],
      "execution_count": 47
    },
    {
      "cell_type": "code",
      "source": "predictors",
      "metadata": {
        "trusted": true
      },
      "outputs": [
        {
          "execution_count": 48,
          "output_type": "execute_result",
          "data": {
            "text/plain": "['mp',\n 'orb',\n 'ast',\n 'tov',\n 'usg%',\n 'pf_max',\n 'trb%_max',\n 'stl%_max',\n 'mp_opp',\n 'usg%_opp',\n 'usg%_10_x',\n 'ft%_max_10_x',\n '3par_max_10_x',\n 'usg%_opp_10_x',\n 'stl_max_opp_10_x',\n 'won_10_x',\n 'home_next',\n 'drb_10_y',\n 'trb%_10_y',\n 'usg%_10_y',\n 'ft_max_10_y',\n 'efg%_max_10_y',\n 'tov%_max_10_y',\n 'trb%_opp_10_y',\n 'usg%_opp_10_y',\n 'fga_max_opp_10_y',\n 'fta_max_opp_10_y',\n 'ft%_max_opp_10_y',\n 'orb%_max_opp_10_y',\n 'won_10_y']"
          },
          "metadata": {}
        }
      ],
      "execution_count": 48
    },
    {
      "cell_type": "code",
      "source": "predictions = backtest(full, rr, predictors)",
      "metadata": {
        "trusted": true
      },
      "outputs": [],
      "execution_count": 49
    },
    {
      "cell_type": "code",
      "source": "accuracy_score(predictions[\"actual\"], predictions[\"prediction\"])",
      "metadata": {
        "trusted": true
      },
      "outputs": [
        {
          "execution_count": 51,
          "output_type": "execute_result",
          "data": {
            "text/plain": "0.6296296296296297"
          },
          "metadata": {}
        }
      ],
      "execution_count": 51
    },
    {
      "cell_type": "code",
      "source": "",
      "metadata": {
        "trusted": true
      },
      "outputs": [],
      "execution_count": null
    }
  ]
}